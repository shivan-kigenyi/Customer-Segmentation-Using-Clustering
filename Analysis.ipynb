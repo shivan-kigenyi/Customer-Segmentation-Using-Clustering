{
 "cells": [
  {
   "cell_type": "code",
   "execution_count": 30,
   "id": "0ee7f66d",
   "metadata": {},
   "outputs": [
    {
     "data": {
      "application/vnd.microsoft.datawrangler.viewer.v0+json": {
       "columns": [
        {
         "name": "index",
         "rawType": "int64",
         "type": "integer"
        },
        {
         "name": "CustomerID",
         "rawType": "int64",
         "type": "integer"
        },
        {
         "name": "Gender",
         "rawType": "object",
         "type": "string"
        },
        {
         "name": "Age",
         "rawType": "int64",
         "type": "integer"
        },
        {
         "name": "Income (k$)",
         "rawType": "float64",
         "type": "float"
        },
        {
         "name": "Spending Score",
         "rawType": "int64",
         "type": "integer"
        },
        {
         "name": "JoinDate",
         "rawType": "object",
         "type": "string"
        },
        {
         "name": "Notes",
         "rawType": "object",
         "type": "unknown"
        },
        {
         "name": "ZipCode",
         "rawType": "float64",
         "type": "float"
        }
       ],
       "ref": "a40520c0-65d8-4385-a13a-fdbebc779b42",
       "rows": [
        [
         "0",
         "1052",
         "F",
         "45",
         "41.21",
         "65",
         "2015-02",
         "loyal customer",
         "110011.0"
        ],
        [
         "1",
         "2442",
         "male",
         "22",
         "56.04",
         "43",
         "2018-12",
         null,
         null
        ],
        [
         "2",
         "1352",
         "Male",
         "34",
         "86.52",
         "48",
         "2015-12",
         "discount requested",
         "110011.0"
        ],
        [
         "3",
         "1353",
         "Male",
         "29",
         "26.46",
         "65",
         "2015-12",
         null,
         null
        ],
        [
         "4",
         "1579",
         "male",
         "28",
         "38.47",
         "96",
         "2016-08",
         "VIP",
         null
        ]
       ],
       "shape": {
        "columns": 8,
        "rows": 5
       }
      },
      "text/html": [
       "<div>\n",
       "<style scoped>\n",
       "    .dataframe tbody tr th:only-of-type {\n",
       "        vertical-align: middle;\n",
       "    }\n",
       "\n",
       "    .dataframe tbody tr th {\n",
       "        vertical-align: top;\n",
       "    }\n",
       "\n",
       "    .dataframe thead th {\n",
       "        text-align: right;\n",
       "    }\n",
       "</style>\n",
       "<table border=\"1\" class=\"dataframe\">\n",
       "  <thead>\n",
       "    <tr style=\"text-align: right;\">\n",
       "      <th></th>\n",
       "      <th>CustomerID</th>\n",
       "      <th>Gender</th>\n",
       "      <th>Age</th>\n",
       "      <th>Income (k$)</th>\n",
       "      <th>Spending Score</th>\n",
       "      <th>JoinDate</th>\n",
       "      <th>Notes</th>\n",
       "      <th>ZipCode</th>\n",
       "    </tr>\n",
       "  </thead>\n",
       "  <tbody>\n",
       "    <tr>\n",
       "      <th>0</th>\n",
       "      <td>1052</td>\n",
       "      <td>F</td>\n",
       "      <td>45</td>\n",
       "      <td>41.21</td>\n",
       "      <td>65</td>\n",
       "      <td>2015-02</td>\n",
       "      <td>loyal customer</td>\n",
       "      <td>110011.0</td>\n",
       "    </tr>\n",
       "    <tr>\n",
       "      <th>1</th>\n",
       "      <td>2442</td>\n",
       "      <td>male</td>\n",
       "      <td>22</td>\n",
       "      <td>56.04</td>\n",
       "      <td>43</td>\n",
       "      <td>2018-12</td>\n",
       "      <td>NaN</td>\n",
       "      <td>NaN</td>\n",
       "    </tr>\n",
       "    <tr>\n",
       "      <th>2</th>\n",
       "      <td>1352</td>\n",
       "      <td>Male</td>\n",
       "      <td>34</td>\n",
       "      <td>86.52</td>\n",
       "      <td>48</td>\n",
       "      <td>2015-12</td>\n",
       "      <td>discount requested</td>\n",
       "      <td>110011.0</td>\n",
       "    </tr>\n",
       "    <tr>\n",
       "      <th>3</th>\n",
       "      <td>1353</td>\n",
       "      <td>Male</td>\n",
       "      <td>29</td>\n",
       "      <td>26.46</td>\n",
       "      <td>65</td>\n",
       "      <td>2015-12</td>\n",
       "      <td>NaN</td>\n",
       "      <td>NaN</td>\n",
       "    </tr>\n",
       "    <tr>\n",
       "      <th>4</th>\n",
       "      <td>1579</td>\n",
       "      <td>male</td>\n",
       "      <td>28</td>\n",
       "      <td>38.47</td>\n",
       "      <td>96</td>\n",
       "      <td>2016-08</td>\n",
       "      <td>VIP</td>\n",
       "      <td>NaN</td>\n",
       "    </tr>\n",
       "  </tbody>\n",
       "</table>\n",
       "</div>"
      ],
      "text/plain": [
       "   CustomerID Gender  Age  ...  JoinDate               Notes   ZipCode\n",
       "0        1052      F   45  ...   2015-02      loyal customer  110011.0\n",
       "1        2442   male   22  ...   2018-12                 NaN       NaN\n",
       "2        1352   Male   34  ...   2015-12  discount requested  110011.0\n",
       "3        1353   Male   29  ...   2015-12                 NaN       NaN\n",
       "4        1579   male   28  ...   2016-08                 VIP       NaN\n",
       "\n",
       "[5 rows x 8 columns]"
      ]
     },
     "execution_count": 30,
     "metadata": {},
     "output_type": "execute_result"
    }
   ],
   "source": [
    "import pandas as pd\n",
    "\n",
    "#load the data\n",
    "df = pd.read_csv('messy_mall_customers.csv')\n",
    "\n",
    "#Preview the first 5 rows\n",
    "df.head()"
   ]
  },
  {
   "cell_type": "markdown",
   "id": "fa5c5fe8",
   "metadata": {},
   "source": [
    "Data cleaning\n",
    "objective here.\n",
    "- check for missing values\n",
    "- Handle duplicates\n",
    "- Fixing data types\n",
    "- Cleaning inconsistent entries\n",
    "- Removing irrelevant columns"
   ]
  },
  {
   "cell_type": "code",
   "execution_count": 31,
   "id": "4d252cb5",
   "metadata": {},
   "outputs": [
    {
     "name": "stdout",
     "output_type": "stream",
     "text": [
      "Missing values in each column\n",
      "CustomerID          0\n",
      "Gender            193\n",
      "Age                 0\n",
      "Income (k$)       102\n",
      "Spending Score      0\n",
      "JoinDate          154\n",
      "Notes             363\n",
      "ZipCode           655\n",
      "dtype: int64\n"
     ]
    }
   ],
   "source": [
    "#check for missing values\n",
    "#import libraries\n",
    "import pandas as pd\n",
    "missing_values = df.isnull().sum()\n",
    "\n",
    "print('Missing values in each column')\n",
    "print(missing_values)"
   ]
  },
  {
   "cell_type": "code",
   "execution_count": 32,
   "id": "53f0f902",
   "metadata": {},
   "outputs": [
    {
     "name": "stdout",
     "output_type": "stream",
     "text": [
      "['F' 'male' 'Male' nan 'Female' 'Other' 'M' 'female']\n",
      "Gender\n",
      "Female     591\n",
      "Male       578\n",
      "Unknown    193\n",
      "Other      188\n",
      "Name: count, dtype: int64\n"
     ]
    }
   ],
   "source": [
    "#check unique values in Gender\n",
    "print(df['Gender'].unique())\n",
    "\n",
    "#standardize Gender column\n",
    "def clean_gender(g):\n",
    "    if pd.isnull(g):\n",
    "        return 'Unknown'\n",
    "    g = g.strip().lower()\n",
    "    if g in ['male', 'm']:\n",
    "        return 'Male'\n",
    "    elif g in ['female', 'f']:\n",
    "        return 'Female'\n",
    "    elif g == 'other':\n",
    "        return 'Other'\n",
    "    else:\n",
    "        return 'Unkown'\n",
    "df['Gender'] = df['Gender'].apply(clean_gender)\n",
    "\n",
    "#verify cleaned values\n",
    "print(df['Gender'].value_counts())"
   ]
  },
  {
   "cell_type": "code",
   "execution_count": 33,
   "id": "87840080",
   "metadata": {},
   "outputs": [
    {
     "data": {
      "image/png": "[encoded data removed]",
      "text/plain": [
       "<Figure size 800x500 with 1 Axes>"
      ]
     },
     "metadata": {},
     "output_type": "display_data"
    }
   ],
   "source": [
    "import matplotlib.pyplot as plt\n",
    "import seaborn as sns\n",
    "\n",
    "#plot income distribution\n",
    "plt.figure(figsize = (8,5))\n",
    "sns.histplot(df['Income (k$)'], bins =30, kde = True)\n",
    "plt.title('Income (k$) Distribution')\n",
    "plt.xlabel('Income (k$)')\n",
    "plt.ylabel('Frequency')\n",
    "plt.show()"
   ]
  },
  {
   "cell_type": "code",
   "execution_count": 34,
   "id": "4004f482",
   "metadata": {},
   "outputs": [
    {
     "name": "stdout",
     "output_type": "stream",
     "text": [
      "0\n"
     ]
    }
   ],
   "source": [
    "#impute missing income values with mean\n",
    "mean_income = df['Income (k$)'].mean()\n",
    "df['Income (k$)'] = df['Income (k$)'].fillna(mean_income)\n",
    "\n",
    "#Confirm all missing values are removed\n",
    "print(df['Income (k$)'].isnull().sum())"
   ]
  },
  {
   "cell_type": "markdown",
   "id": "63019afd",
   "metadata": {},
   "source": [
    "#Handling Missing data in JoinDate Column\n",
    "#We have 154 missing entries and this is likely datetime and could be useful for\n",
    "#Calculating Customer tenure\n",
    "#Aalysing cohorts or trends overtime"
   ]
  },
  {
   "cell_type": "code",
   "execution_count": 35,
   "id": "956b4f1d",
   "metadata": {},
   "outputs": [
    {
     "name": "stdout",
     "output_type": "stream",
     "text": [
      "154\n"
     ]
    }
   ],
   "source": [
    "#convert the JoinDate to datetime format\n",
    "df['JoinDate'] = pd.to_datetime(df['JoinDate'], errors = 'coerce')\n",
    "\n",
    "#Recheck how many are still missing after Conversion\n",
    "print(df['JoinDate'].isnull().sum())"
   ]
  },
  {
   "cell_type": "code",
   "execution_count": 36,
   "id": "3da9df9e",
   "metadata": {},
   "outputs": [
    {
     "name": "stdout",
     "output_type": "stream",
     "text": [
      "0\n"
     ]
    },
    {
     "name": "stderr",
     "output_type": "stream",
     "text": [
      "C:\\Users\\ELITEX21012G2\\AppData\\Local\\Temp\\ipykernel_12228\\890021032.py:3: FutureWarning: A value is trying to be set on a copy of a DataFrame or Series through chained assignment using an inplace method.\n",
      "The behavior will change in pandas 3.0. This inplace method will never work because the intermediate object on which we are setting values always behaves as a copy.\n",
      "\n",
      "For example, when doing 'df[col].method(value, inplace=True)', try using 'df.method({col: value}, inplace=True)' or df[col] = df[col].method(value) instead, to perform the operation inplace on the original object.\n",
      "\n",
      "\n",
      "  df['JoinDate'].fillna(mode_JoinDate, inplace = True)\n"
     ]
    }
   ],
   "source": [
    "#We fill missing JoinDate with the most frequent value\n",
    "mode_JoinDate = df['JoinDate'].mode()[0]\n",
    "df['JoinDate'].fillna(mode_JoinDate, inplace = True)\n",
    "\n",
    "#confirm no mor missing values\n",
    "print(df['JoinDate'].isnull().sum())"
   ]
  },
  {
   "cell_type": "code",
   "execution_count": 37,
   "id": "7fb3af81",
   "metadata": {},
   "outputs": [
    {
     "name": "stdout",
     "output_type": "stream",
     "text": [
      "0\n"
     ]
    },
    {
     "name": "stderr",
     "output_type": "stream",
     "text": [
      "C:\\Users\\ELITEX21012G2\\AppData\\Local\\Temp\\ipykernel_12228\\2571118027.py:2: FutureWarning: A value is trying to be set on a copy of a DataFrame or Series through chained assignment using an inplace method.\n",
      "The behavior will change in pandas 3.0. This inplace method will never work because the intermediate object on which we are setting values always behaves as a copy.\n",
      "\n",
      "For example, when doing 'df[col].method(value, inplace=True)', try using 'df.method({col: value}, inplace=True)' or df[col] = df[col].method(value) instead, to perform the operation inplace on the original object.\n",
      "\n",
      "\n",
      "  df['Notes'].fillna('No notes', inplace = True)\n"
     ]
    }
   ],
   "source": [
    "#for text columns \n",
    "df['Notes'].fillna('No notes', inplace = True)\n",
    "print(df['Notes'].isnull().sum())"
   ]
  },
  {
   "cell_type": "code",
   "execution_count": 38,
   "id": "86de8877",
   "metadata": {},
   "outputs": [
    {
     "name": "stdout",
     "output_type": "stream",
     "text": [
      "[110011.     nan 400001. 560001.]\n",
      "float64\n",
      "655\n"
     ]
    }
   ],
   "source": [
    "#taking a decision on how to handle missing values in zipcode\n",
    "print(df['ZipCode'].unique()[:10])  #first 10 unique values\n",
    "print(df['ZipCode'].dtype)          #check datatype\n",
    "print(df['ZipCode'].isnull().sum())"
   ]
  },
  {
   "cell_type": "markdown",
   "id": "fc0a3e3f",
   "metadata": {},
   "source": [
    "This column won't contribute meaningfully to your segmentation analysis- and especially since its partially missing and from mixed locations"
   ]
  },
  {
   "cell_type": "code",
   "execution_count": 39,
   "id": "4eba4caa",
   "metadata": {},
   "outputs": [],
   "source": [
    "#Drop ZipCode Column\n",
    "#df.drop(columns =['ZipCode'], inplace = True)\n",
    "\n",
    "#print(df.columns.tolist())"
   ]
  },
  {
   "cell_type": "code",
   "execution_count": 40,
   "id": "f638c063",
   "metadata": {},
   "outputs": [
    {
     "name": "stdout",
     "output_type": "stream",
     "text": [
      "<class 'pandas.core.frame.DataFrame'>\n",
      "RangeIndex: 1550 entries, 0 to 1549\n",
      "Data columns (total 8 columns):\n",
      " #   Column          Non-Null Count  Dtype         \n",
      "---  ------          --------------  -----         \n",
      " 0   CustomerID      1550 non-null   int64         \n",
      " 1   Gender          1550 non-null   object        \n",
      " 2   Age             1550 non-null   int64         \n",
      " 3   Income (k$)     1550 non-null   float64       \n",
      " 4   Spending Score  1550 non-null   int64         \n",
      " 5   JoinDate        1550 non-null   datetime64[ns]\n",
      " 6   Notes           1550 non-null   object        \n",
      " 7   ZipCode         895 non-null    float64       \n",
      "dtypes: datetime64[ns](1), float64(2), int64(3), object(2)\n",
      "memory usage: 97.0+ KB\n",
      "None\n",
      "        CustomerID          Age  ...                       JoinDate        ZipCode\n",
      "count  1550.000000  1550.000000  ...                           1550     895.000000\n",
      "mean   1753.959355    35.165161  ...  2016-12-05 13:40:20.129032448  359132.731844\n",
      "min    1001.000000    -5.000000  ...            2015-01-01 00:00:00  110011.000000\n",
      "25%    1379.250000    28.000000  ...            2016-02-01 00:00:00  110011.000000\n",
      "50%    1753.500000    35.000000  ...            2016-10-01 00:00:00  400001.000000\n",
      "75%    2129.750000    42.000000  ...            2017-12-01 00:00:00  560001.000000\n",
      "max    2500.000000   120.000000  ...            2019-02-01 00:00:00  560001.000000\n",
      "std     433.879262    12.556232  ...                            NaN  184692.971230\n",
      "\n",
      "[8 rows x 6 columns]\n",
      "Gender\n",
      "Female     591\n",
      "Male       578\n",
      "Unknown    193\n",
      "Other      188\n",
      "Name: count, dtype: int64\n"
     ]
    }
   ],
   "source": [
    "#Exploratory data Analysis\n",
    "print(df.info())\n",
    "\n",
    "#summary statistics\n",
    "print(df.describe())\n",
    "\n",
    "#Gender distribution\n",
    "print(df['Gender'].value_counts())"
   ]
  },
  {
   "cell_type": "markdown",
   "id": "f0ca79ac",
   "metadata": {},
   "source": [
    "Observations\n",
    "We have annomalies in Age, income, spending score and Gender Distribution \n",
    "for example, min age of -5, min income of -4. Max spending score of 300, while the rest are more reasonable. This could be a possible indication of an outlier.\n",
    "Under Gender Distribution, Female category might have been dropped/misclassified\n"
   ]
  },
  {
   "cell_type": "code",
   "execution_count": 41,
   "id": "dd383e10",
   "metadata": {},
   "outputs": [
    {
     "name": "stdout",
     "output_type": "stream",
     "text": [
      "               Age  Income (k$)\n",
      "count  1518.000000  1518.000000\n",
      "mean     35.215415    60.486444\n",
      "std       9.855066    19.216458\n",
      "min       4.000000     0.940000\n",
      "25%      29.000000    48.397500\n",
      "50%      35.000000    60.304227\n",
      "75%      42.000000    72.760000\n",
      "max      66.000000   125.210000\n"
     ]
    }
   ],
   "source": [
    "#clean the age and Income\n",
    "#Remove unrealistic values from age \n",
    "df = df[(df['Age'] > 0) & (df['Age'] <= 100)]\n",
    "\n",
    "#Remove unrealistic values from Income(k$)\n",
    "df = df[df['Income (k$)'] >= 0]\n",
    "\n",
    "#Confirm Cleanup\n",
    "print(df[['Age', 'Income (k$)']].describe())"
   ]
  },
  {
   "cell_type": "code",
   "execution_count": 42,
   "id": "f6178573",
   "metadata": {},
   "outputs": [
    {
     "name": "stdout",
     "output_type": "stream",
     "text": [
      "['Female' 'Male' 'Unknown' 'Other']\n",
      "Gender\n",
      "Female     576\n",
      "Male       567\n",
      "Unknown    189\n",
      "Other      186\n",
      "Name: count, dtype: int64\n"
     ]
    }
   ],
   "source": [
    "print(df['Gender'].unique())\n",
    "print(df['Gender'].value_counts())"
   ]
  },
  {
   "cell_type": "code",
   "execution_count": 43,
   "id": "12532b1f",
   "metadata": {},
   "outputs": [
    {
     "name": "stderr",
     "output_type": "stream",
     "text": [
      "C:\\Users\\ELITEX21012G2\\AppData\\Local\\Temp\\ipykernel_12228\\2542102715.py:9: FutureWarning: \n",
      "\n",
      "Passing `palette` without assigning `hue` is deprecated and will be removed in v0.14.0. Assign the `x` variable to `hue` and set `legend=False` for the same effect.\n",
      "\n",
      "  sns.countplot(data =df, x = 'Gender', palette = 'Set2')\n"
     ]
    },
    {
     "data": {
      "image/png": "[encoded data removed]",
      "text/plain": [
       "<Figure size 600x400 with 1 Axes>"
      ]
     },
     "metadata": {},
     "output_type": "display_data"
    },
    {
     "data": {
      "image/png": "[encoded data removed]",
      "text/plain": [
       "<Figure size 600x400 with 1 Axes>"
      ]
     },
     "metadata": {},
     "output_type": "display_data"
    },
    {
     "data": {
      "image/png": "[encoded data removed]",
      "text/plain": [
       "<Figure size 600x400 with 1 Axes>"
      ]
     },
     "metadata": {},
     "output_type": "display_data"
    },
    {
     "data": {
      "image/png": "[encoded data removed]",
      "text/plain": [
       "<Figure size 600x400 with 1 Axes>"
      ]
     },
     "metadata": {},
     "output_type": "display_data"
    }
   ],
   "source": [
    "import matplotlib.pyplot as plt\n",
    "import seaborn as sns\n",
    "\n",
    "#We set visual style for the plots\n",
    "sns.set(style = 'whitegrid')\n",
    "\n",
    "# Plot 1: Gender Distribution\n",
    "plt.figure(figsize= (6,4))\n",
    "sns.countplot(data =df, x = 'Gender', palette = 'Set2')\n",
    "plt.title('Gender Distribution')\n",
    "plt.show()\n",
    "\n",
    "# Plot 2: Age Distribution\n",
    "plt.figure(figsize = (6,4))\n",
    "sns.histplot(df['Age'], bins = 20, kde = True, color = 'skyblue')\n",
    "plt.title('Age Distribution')\n",
    "plt.show()\n",
    "\n",
    "#Plot 3: Income distribution\n",
    "plt.figure(figsize = (6,4))\n",
    "sns.histplot(df['Income (k$)'], bins = 20, kde = True, color = 'orange')\n",
    "plt.title('Income Distribution')\n",
    "plt.show()\n",
    "\n",
    "# Plot 4: Spendind Score Distribution\n",
    "plt.figure(figsize = (6,4))\n",
    "sns.histplot(df['Spending Score'], bins = 20, kde = True, color = 'green')\n",
    "plt.title('Spending score Distribution')\n",
    "plt.show()"
   ]
  },
  {
   "cell_type": "markdown",
   "id": "1db62db4",
   "metadata": {},
   "source": [
    "Insights\n",
    "1. This dataset has a concentrated adult population (People in thier 30s and 40s)\n",
    "2. The highest bar/peak occurs at around 60,000 which suggests its the most common income level in the data set. The spread is mostly between 50k - 70k\n",
    "3. Majority of customers spend moderately with scores concentrated below 100"
   ]
  },
  {
   "cell_type": "code",
   "execution_count": 44,
   "id": "2218809c",
   "metadata": {},
   "outputs": [],
   "source": [
    "#Feature Selection + Scaling\n",
    "from sklearn.preprocessing import StandardScaler\n",
    "\n",
    "#Select features\n",
    "X = df[['Age', 'Income (k$)', 'Spending Score']]\n",
    "\n",
    "# Scale the features\n",
    "scaler = StandardScaler()\n",
    "x_scaled = scaler.fit_transform(X)"
   ]
  },
  {
   "cell_type": "code",
   "execution_count": 45,
   "id": "2b2681a2",
   "metadata": {},
   "outputs": [
    {
     "data": {
      "image/png": "[encoded data removed]",
      "text/plain": [
       "<Figure size 800x500 with 1 Axes>"
      ]
     },
     "metadata": {},
     "output_type": "display_data"
    }
   ],
   "source": [
    "#To find optimal number of clusters for KMEANS, we use the Elbow method \n",
    "from sklearn.cluster import KMeans\n",
    "import matplotlib.pyplot as plt\n",
    "\n",
    "#Test different values of K (number of clusters)\n",
    "inertia = []\n",
    "k_range = range(1,11)\n",
    "\n",
    "for k in k_range:\n",
    "    km = KMeans(n_clusters = k, random_state = 42)\n",
    "    km.fit(x_scaled)\n",
    "    inertia.append(km.inertia_)\n",
    "\n",
    "# Plotting the Elbow Curve\n",
    "plt.figure(figsize =(8,5))\n",
    "plt.plot(k_range, inertia, marker ='o')\n",
    "plt.title('Elbow Method for Optimal K')\n",
    "plt.xlabel('Number of Clusters (k)')\n",
    "plt.ylabel('Inertia')\n",
    "plt.grid(True)\n",
    "plt.show()"
   ]
  },
  {
   "cell_type": "markdown",
   "id": "9d59cf9f",
   "metadata": {},
   "source": [
    "From the plot above, k = 4, where the drop in inertia slows down significantly. This indicates that 4 clusters might be optional."
   ]
  },
  {
   "cell_type": "code",
   "execution_count": 46,
   "id": "1a1a7803",
   "metadata": {},
   "outputs": [
    {
     "data": {
      "application/vnd.microsoft.datawrangler.viewer.v0+json": {
       "columns": [
        {
         "name": "index",
         "rawType": "int64",
         "type": "integer"
        },
        {
         "name": "CustomerID",
         "rawType": "int64",
         "type": "integer"
        },
        {
         "name": "Gender",
         "rawType": "object",
         "type": "string"
        },
        {
         "name": "Age",
         "rawType": "int64",
         "type": "integer"
        },
        {
         "name": "Income (k$)",
         "rawType": "float64",
         "type": "float"
        },
        {
         "name": "Spending Score",
         "rawType": "int64",
         "type": "integer"
        },
        {
         "name": "JoinDate",
         "rawType": "datetime64[ns]",
         "type": "datetime"
        },
        {
         "name": "Notes",
         "rawType": "object",
         "type": "string"
        },
        {
         "name": "ZipCode",
         "rawType": "float64",
         "type": "float"
        },
        {
         "name": "Clusters",
         "rawType": "int32",
         "type": "integer"
        }
       ],
       "ref": "80128525-83af-4413-a242-e4e9c8258a42",
       "rows": [
        [
         "0",
         "1052",
         "Female",
         "45",
         "41.21",
         "65",
         "2015-02-01 00:00:00",
         "loyal customer",
         "110011.0",
         "0"
        ],
        [
         "1",
         "2442",
         "Male",
         "22",
         "56.04",
         "43",
         "2018-12-01 00:00:00",
         "No notes",
         null,
         "2"
        ],
        [
         "2",
         "1352",
         "Male",
         "34",
         "86.52",
         "48",
         "2015-12-01 00:00:00",
         "discount requested",
         "110011.0",
         "2"
        ],
        [
         "3",
         "1353",
         "Male",
         "29",
         "26.46",
         "65",
         "2015-12-01 00:00:00",
         "No notes",
         null,
         "0"
        ],
        [
         "4",
         "1579",
         "Male",
         "28",
         "38.47",
         "96",
         "2016-08-01 00:00:00",
         "VIP",
         null,
         "1"
        ]
       ],
       "shape": {
        "columns": 9,
        "rows": 5
       }
      },
      "text/html": [
       "<div>\n",
       "<style scoped>\n",
       "    .dataframe tbody tr th:only-of-type {\n",
       "        vertical-align: middle;\n",
       "    }\n",
       "\n",
       "    .dataframe tbody tr th {\n",
       "        vertical-align: top;\n",
       "    }\n",
       "\n",
       "    .dataframe thead th {\n",
       "        text-align: right;\n",
       "    }\n",
       "</style>\n",
       "<table border=\"1\" class=\"dataframe\">\n",
       "  <thead>\n",
       "    <tr style=\"text-align: right;\">\n",
       "      <th></th>\n",
       "      <th>CustomerID</th>\n",
       "      <th>Gender</th>\n",
       "      <th>Age</th>\n",
       "      <th>Income (k$)</th>\n",
       "      <th>Spending Score</th>\n",
       "      <th>JoinDate</th>\n",
       "      <th>Notes</th>\n",
       "      <th>ZipCode</th>\n",
       "      <th>Clusters</th>\n",
       "    </tr>\n",
       "  </thead>\n",
       "  <tbody>\n",
       "    <tr>\n",
       "      <th>0</th>\n",
       "      <td>1052</td>\n",
       "      <td>Female</td>\n",
       "      <td>45</td>\n",
       "      <td>41.21</td>\n",
       "      <td>65</td>\n",
       "      <td>2015-02-01</td>\n",
       "      <td>loyal customer</td>\n",
       "      <td>110011.0</td>\n",
       "      <td>0</td>\n",
       "    </tr>\n",
       "    <tr>\n",
       "      <th>1</th>\n",
       "      <td>2442</td>\n",
       "      <td>Male</td>\n",
       "      <td>22</td>\n",
       "      <td>56.04</td>\n",
       "      <td>43</td>\n",
       "      <td>2018-12-01</td>\n",
       "      <td>No notes</td>\n",
       "      <td>NaN</td>\n",
       "      <td>2</td>\n",
       "    </tr>\n",
       "    <tr>\n",
       "      <th>2</th>\n",
       "      <td>1352</td>\n",
       "      <td>Male</td>\n",
       "      <td>34</td>\n",
       "      <td>86.52</td>\n",
       "      <td>48</td>\n",
       "      <td>2015-12-01</td>\n",
       "      <td>discount requested</td>\n",
       "      <td>110011.0</td>\n",
       "      <td>2</td>\n",
       "    </tr>\n",
       "    <tr>\n",
       "      <th>3</th>\n",
       "      <td>1353</td>\n",
       "      <td>Male</td>\n",
       "      <td>29</td>\n",
       "      <td>26.46</td>\n",
       "      <td>65</td>\n",
       "      <td>2015-12-01</td>\n",
       "      <td>No notes</td>\n",
       "      <td>NaN</td>\n",
       "      <td>0</td>\n",
       "    </tr>\n",
       "    <tr>\n",
       "      <th>4</th>\n",
       "      <td>1579</td>\n",
       "      <td>Male</td>\n",
       "      <td>28</td>\n",
       "      <td>38.47</td>\n",
       "      <td>96</td>\n",
       "      <td>2016-08-01</td>\n",
       "      <td>VIP</td>\n",
       "      <td>NaN</td>\n",
       "      <td>1</td>\n",
       "    </tr>\n",
       "  </tbody>\n",
       "</table>\n",
       "</div>"
      ],
      "text/plain": [
       "   CustomerID  Gender  Age  ...               Notes   ZipCode Clusters\n",
       "0        1052  Female   45  ...      loyal customer  110011.0        0\n",
       "1        2442    Male   22  ...            No notes       NaN        2\n",
       "2        1352    Male   34  ...  discount requested  110011.0        2\n",
       "3        1353    Male   29  ...            No notes       NaN        0\n",
       "4        1579    Male   28  ...                 VIP       NaN        1\n",
       "\n",
       "[5 rows x 9 columns]"
      ]
     },
     "execution_count": 46,
     "metadata": {},
     "output_type": "execute_result"
    }
   ],
   "source": [
    "#Fit KMeans with the chosen number of clusters\n",
    "kmeans = KMeans(n_clusters= 4, random_state= 42)\n",
    "clusters = kmeans.fit_predict(x_scaled)\n",
    "\n",
    "#Add labels\n",
    "df['Clusters']= clusters\n",
    "\n",
    "#Preview\n",
    "df.head()"
   ]
  },
  {
   "cell_type": "code",
   "execution_count": 49,
   "id": "d16c4841",
   "metadata": {},
   "outputs": [
    {
     "ename": "KeyError",
     "evalue": "'Cluster'",
     "output_type": "error",
     "traceback": [
      "\u001b[31m---------------------------------------------------------------------------\u001b[39m",
      "\u001b[31mKeyError\u001b[39m                                  Traceback (most recent call last)",
      "\u001b[36mCell\u001b[39m\u001b[36m \u001b[39m\u001b[32mIn[49]\u001b[39m\u001b[32m, line 5\u001b[39m\n\u001b[32m      2\u001b[39m df.head()\n\u001b[32m      3\u001b[39m \u001b[38;5;66;03m#Understanding the clusters\u001b[39;00m\n\u001b[32m      4\u001b[39m \u001b[38;5;66;03m#Group by clusters and calculate statistics\u001b[39;00m\n\u001b[32m----> \u001b[39m\u001b[32m5\u001b[39m cluster_summary = \u001b[43mdf\u001b[49m\u001b[43m.\u001b[49m\u001b[43mgroupby\u001b[49m\u001b[43m(\u001b[49m\u001b[33;43m'\u001b[39;49m\u001b[33;43mCluster\u001b[39;49m\u001b[33;43m'\u001b[39;49m\u001b[43m)\u001b[49m[[\u001b[33m'\u001b[39m\u001b[33mAge\u001b[39m\u001b[33m'\u001b[39m, \u001b[33m'\u001b[39m\u001b[33mIncome (k$)\u001b[39m\u001b[33m'\u001b[39m, \u001b[33m'\u001b[39m\u001b[33mSpending Score\u001b[39m\u001b[33m'\u001b[39m]].mean().round(\u001b[32m1\u001b[39m)\n\u001b[32m      6\u001b[39m cluster_summary\n",
      "\u001b[36mFile \u001b[39m\u001b[32mc:\\Users\\ELITEX21012G2\\AppData\\Local\\Programs\\Python\\Python313\\Lib\\site-packages\\pandas\\core\\frame.py:9190\u001b[39m, in \u001b[36mDataFrame.groupby\u001b[39m\u001b[34m(self, by, axis, level, as_index, sort, group_keys, observed, dropna)\u001b[39m\n\u001b[32m   9187\u001b[39m \u001b[38;5;28;01mif\u001b[39;00m level \u001b[38;5;129;01mis\u001b[39;00m \u001b[38;5;28;01mNone\u001b[39;00m \u001b[38;5;129;01mand\u001b[39;00m by \u001b[38;5;129;01mis\u001b[39;00m \u001b[38;5;28;01mNone\u001b[39;00m:\n\u001b[32m   9188\u001b[39m     \u001b[38;5;28;01mraise\u001b[39;00m \u001b[38;5;167;01mTypeError\u001b[39;00m(\u001b[33m\"\u001b[39m\u001b[33mYou have to supply one of \u001b[39m\u001b[33m'\u001b[39m\u001b[33mby\u001b[39m\u001b[33m'\u001b[39m\u001b[33m and \u001b[39m\u001b[33m'\u001b[39m\u001b[33mlevel\u001b[39m\u001b[33m'\u001b[39m\u001b[33m\"\u001b[39m)\n\u001b[32m-> \u001b[39m\u001b[32m9190\u001b[39m \u001b[38;5;28;01mreturn\u001b[39;00m \u001b[43mDataFrameGroupBy\u001b[49m\u001b[43m(\u001b[49m\n\u001b[32m   9191\u001b[39m \u001b[43m    \u001b[49m\u001b[43mobj\u001b[49m\u001b[43m=\u001b[49m\u001b[38;5;28;43mself\u001b[39;49m\u001b[43m,\u001b[49m\n\u001b[32m   9192\u001b[39m \u001b[43m    \u001b[49m\u001b[43mkeys\u001b[49m\u001b[43m=\u001b[49m\u001b[43mby\u001b[49m\u001b[43m,\u001b[49m\n\u001b[32m   9193\u001b[39m \u001b[43m    \u001b[49m\u001b[43maxis\u001b[49m\u001b[43m=\u001b[49m\u001b[43maxis\u001b[49m\u001b[43m,\u001b[49m\n\u001b[32m   9194\u001b[39m \u001b[43m    \u001b[49m\u001b[43mlevel\u001b[49m\u001b[43m=\u001b[49m\u001b[43mlevel\u001b[49m\u001b[43m,\u001b[49m\n\u001b[32m   9195\u001b[39m \u001b[43m    \u001b[49m\u001b[43mas_index\u001b[49m\u001b[43m=\u001b[49m\u001b[43mas_index\u001b[49m\u001b[43m,\u001b[49m\n\u001b[32m   9196\u001b[39m \u001b[43m    \u001b[49m\u001b[43msort\u001b[49m\u001b[43m=\u001b[49m\u001b[43msort\u001b[49m\u001b[43m,\u001b[49m\n\u001b[32m   9197\u001b[39m \u001b[43m    \u001b[49m\u001b[43mgroup_keys\u001b[49m\u001b[43m=\u001b[49m\u001b[43mgroup_keys\u001b[49m\u001b[43m,\u001b[49m\n\u001b[32m   9198\u001b[39m \u001b[43m    \u001b[49m\u001b[43mobserved\u001b[49m\u001b[43m=\u001b[49m\u001b[43mobserved\u001b[49m\u001b[43m,\u001b[49m\n\u001b[32m   9199\u001b[39m \u001b[43m    \u001b[49m\u001b[43mdropna\u001b[49m\u001b[43m=\u001b[49m\u001b[43mdropna\u001b[49m\u001b[43m,\u001b[49m\n\u001b[32m   9200\u001b[39m \u001b[43m\u001b[49m\u001b[43m)\u001b[49m\n",
      "\u001b[36mFile \u001b[39m\u001b[32mc:\\Users\\ELITEX21012G2\\AppData\\Local\\Programs\\Python\\Python313\\Lib\\site-packages\\pandas\\core\\groupby\\groupby.py:1329\u001b[39m, in \u001b[36mGroupBy.__init__\u001b[39m\u001b[34m(self, obj, keys, axis, level, grouper, exclusions, selection, as_index, sort, group_keys, observed, dropna)\u001b[39m\n\u001b[32m   1326\u001b[39m \u001b[38;5;28mself\u001b[39m.dropna = dropna\n\u001b[32m   1328\u001b[39m \u001b[38;5;28;01mif\u001b[39;00m grouper \u001b[38;5;129;01mis\u001b[39;00m \u001b[38;5;28;01mNone\u001b[39;00m:\n\u001b[32m-> \u001b[39m\u001b[32m1329\u001b[39m     grouper, exclusions, obj = \u001b[43mget_grouper\u001b[49m\u001b[43m(\u001b[49m\n\u001b[32m   1330\u001b[39m \u001b[43m        \u001b[49m\u001b[43mobj\u001b[49m\u001b[43m,\u001b[49m\n\u001b[32m   1331\u001b[39m \u001b[43m        \u001b[49m\u001b[43mkeys\u001b[49m\u001b[43m,\u001b[49m\n\u001b[32m   1332\u001b[39m \u001b[43m        \u001b[49m\u001b[43maxis\u001b[49m\u001b[43m=\u001b[49m\u001b[43maxis\u001b[49m\u001b[43m,\u001b[49m\n\u001b[32m   1333\u001b[39m \u001b[43m        \u001b[49m\u001b[43mlevel\u001b[49m\u001b[43m=\u001b[49m\u001b[43mlevel\u001b[49m\u001b[43m,\u001b[49m\n\u001b[32m   1334\u001b[39m \u001b[43m        \u001b[49m\u001b[43msort\u001b[49m\u001b[43m=\u001b[49m\u001b[43msort\u001b[49m\u001b[43m,\u001b[49m\n\u001b[32m   1335\u001b[39m \u001b[43m        \u001b[49m\u001b[43mobserved\u001b[49m\u001b[43m=\u001b[49m\u001b[38;5;28;43;01mFalse\u001b[39;49;00m\u001b[43m \u001b[49m\u001b[38;5;28;43;01mif\u001b[39;49;00m\u001b[43m \u001b[49m\u001b[43mobserved\u001b[49m\u001b[43m \u001b[49m\u001b[38;5;129;43;01mis\u001b[39;49;00m\u001b[43m \u001b[49m\u001b[43mlib\u001b[49m\u001b[43m.\u001b[49m\u001b[43mno_default\u001b[49m\u001b[43m \u001b[49m\u001b[38;5;28;43;01melse\u001b[39;49;00m\u001b[43m \u001b[49m\u001b[43mobserved\u001b[49m\u001b[43m,\u001b[49m\n\u001b[32m   1336\u001b[39m \u001b[43m        \u001b[49m\u001b[43mdropna\u001b[49m\u001b[43m=\u001b[49m\u001b[38;5;28;43mself\u001b[39;49m\u001b[43m.\u001b[49m\u001b[43mdropna\u001b[49m\u001b[43m,\u001b[49m\n\u001b[32m   1337\u001b[39m \u001b[43m    \u001b[49m\u001b[43m)\u001b[49m\n\u001b[32m   1339\u001b[39m \u001b[38;5;28;01mif\u001b[39;00m observed \u001b[38;5;129;01mis\u001b[39;00m lib.no_default:\n\u001b[32m   1340\u001b[39m     \u001b[38;5;28;01mif\u001b[39;00m \u001b[38;5;28many\u001b[39m(ping._passed_categorical \u001b[38;5;28;01mfor\u001b[39;00m ping \u001b[38;5;129;01min\u001b[39;00m grouper.groupings):\n",
      "\u001b[36mFile \u001b[39m\u001b[32mc:\\Users\\ELITEX21012G2\\AppData\\Local\\Programs\\Python\\Python313\\Lib\\site-packages\\pandas\\core\\groupby\\grouper.py:1043\u001b[39m, in \u001b[36mget_grouper\u001b[39m\u001b[34m(obj, key, axis, level, sort, observed, validate, dropna)\u001b[39m\n\u001b[32m   1041\u001b[39m         in_axis, level, gpr = \u001b[38;5;28;01mFalse\u001b[39;00m, gpr, \u001b[38;5;28;01mNone\u001b[39;00m\n\u001b[32m   1042\u001b[39m     \u001b[38;5;28;01melse\u001b[39;00m:\n\u001b[32m-> \u001b[39m\u001b[32m1043\u001b[39m         \u001b[38;5;28;01mraise\u001b[39;00m \u001b[38;5;167;01mKeyError\u001b[39;00m(gpr)\n\u001b[32m   1044\u001b[39m \u001b[38;5;28;01melif\u001b[39;00m \u001b[38;5;28misinstance\u001b[39m(gpr, Grouper) \u001b[38;5;129;01mand\u001b[39;00m gpr.key \u001b[38;5;129;01mis\u001b[39;00m \u001b[38;5;129;01mnot\u001b[39;00m \u001b[38;5;28;01mNone\u001b[39;00m:\n\u001b[32m   1045\u001b[39m     \u001b[38;5;66;03m# Add key to exclusions\u001b[39;00m\n\u001b[32m   1046\u001b[39m     exclusions.add(gpr.key)\n",
      "\u001b[31mKeyError\u001b[39m: 'Cluster'"
     ]
    }
   ],
   "source": [
    "#df.columns()\n",
    "df.head()\n",
    "#Understanding the clusters\n",
    "#Group by clusters and calculate statistics\n",
    "cluster_summary = df.groupby('Cluster')[['Age', 'Income (k$)', 'Spending Score']].mean().round(1)\n",
    "cluster_summary"
   ]
  }
 ],
 "metadata": {
  "kernelspec": {
   "display_name": "Python 3",
   "language": "python",
   "name": "python3"
  },
  "language_info": {
   "codemirror_mode": {
    "name": "ipython",
    "version": 3
   },
   "file_extension": ".py",
   "mimetype": "text/x-python",
   "name": "python",
   "nbconvert_exporter": "python",
   "pygments_lexer": "ipython3",
   "version": "3.13.3"
  }
 },
 "nbformat": 4,
 "nbformat_minor": 5
}
