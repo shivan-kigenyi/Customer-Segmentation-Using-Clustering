{
 "cells": [
  {
   "cell_type": "code",
   "execution_count": 1,
   "id": "0ee7f66d",
   "metadata": {},
   "outputs": [
    {
     "data": {
      "application/vnd.microsoft.datawrangler.viewer.v0+json": {
       "columns": [
        {
         "name": "index",
         "rawType": "int64",
         "type": "integer"
        },
        {
         "name": "CustomerID",
         "rawType": "int64",
         "type": "integer"
        },
        {
         "name": "Gender",
         "rawType": "object",
         "type": "string"
        },
        {
         "name": "Age",
         "rawType": "int64",
         "type": "integer"
        },
        {
         "name": "Income (k$)",
         "rawType": "float64",
         "type": "float"
        },
        {
         "name": "Spending Score",
         "rawType": "int64",
         "type": "integer"
        },
        {
         "name": "JoinDate",
         "rawType": "object",
         "type": "string"
        },
        {
         "name": "Notes",
         "rawType": "object",
         "type": "unknown"
        },
        {
         "name": "ZipCode",
         "rawType": "float64",
         "type": "float"
        }
       ],
       "ref": "44638843-6b4a-40d7-a5ba-7a5142937ad5",
       "rows": [
        [
         "0",
         "1052",
         "F",
         "45",
         "41.21",
         "65",
         "2015-02",
         "loyal customer",
         "110011.0"
        ],
        [
         "1",
         "2442",
         "male",
         "22",
         "56.04",
         "43",
         "2018-12",
         null,
         null
        ],
        [
         "2",
         "1352",
         "Male",
         "34",
         "86.52",
         "48",
         "2015-12",
         "discount requested",
         "110011.0"
        ],
        [
         "3",
         "1353",
         "Male",
         "29",
         "26.46",
         "65",
         "2015-12",
         null,
         null
        ],
        [
         "4",
         "1579",
         "male",
         "28",
         "38.47",
         "96",
         "2016-08",
         "VIP",
         null
        ]
       ],
       "shape": {
        "columns": 8,
        "rows": 5
       }
      },
      "text/html": [
       "<div>\n",
       "<style scoped>\n",
       "    .dataframe tbody tr th:only-of-type {\n",
       "        vertical-align: middle;\n",
       "    }\n",
       "\n",
       "    .dataframe tbody tr th {\n",
       "        vertical-align: top;\n",
       "    }\n",
       "\n",
       "    .dataframe thead th {\n",
       "        text-align: right;\n",
       "    }\n",
       "</style>\n",
       "<table border=\"1\" class=\"dataframe\">\n",
       "  <thead>\n",
       "    <tr style=\"text-align: right;\">\n",
       "      <th></th>\n",
       "      <th>CustomerID</th>\n",
       "      <th>Gender</th>\n",
       "      <th>Age</th>\n",
       "      <th>Income (k$)</th>\n",
       "      <th>Spending Score</th>\n",
       "      <th>JoinDate</th>\n",
       "      <th>Notes</th>\n",
       "      <th>ZipCode</th>\n",
       "    </tr>\n",
       "  </thead>\n",
       "  <tbody>\n",
       "    <tr>\n",
       "      <th>0</th>\n",
       "      <td>1052</td>\n",
       "      <td>F</td>\n",
       "      <td>45</td>\n",
       "      <td>41.21</td>\n",
       "      <td>65</td>\n",
       "      <td>2015-02</td>\n",
       "      <td>loyal customer</td>\n",
       "      <td>110011.0</td>\n",
       "    </tr>\n",
       "    <tr>\n",
       "      <th>1</th>\n",
       "      <td>2442</td>\n",
       "      <td>male</td>\n",
       "      <td>22</td>\n",
       "      <td>56.04</td>\n",
       "      <td>43</td>\n",
       "      <td>2018-12</td>\n",
       "      <td>NaN</td>\n",
       "      <td>NaN</td>\n",
       "    </tr>\n",
       "    <tr>\n",
       "      <th>2</th>\n",
       "      <td>1352</td>\n",
       "      <td>Male</td>\n",
       "      <td>34</td>\n",
       "      <td>86.52</td>\n",
       "      <td>48</td>\n",
       "      <td>2015-12</td>\n",
       "      <td>discount requested</td>\n",
       "      <td>110011.0</td>\n",
       "    </tr>\n",
       "    <tr>\n",
       "      <th>3</th>\n",
       "      <td>1353</td>\n",
       "      <td>Male</td>\n",
       "      <td>29</td>\n",
       "      <td>26.46</td>\n",
       "      <td>65</td>\n",
       "      <td>2015-12</td>\n",
       "      <td>NaN</td>\n",
       "      <td>NaN</td>\n",
       "    </tr>\n",
       "    <tr>\n",
       "      <th>4</th>\n",
       "      <td>1579</td>\n",
       "      <td>male</td>\n",
       "      <td>28</td>\n",
       "      <td>38.47</td>\n",
       "      <td>96</td>\n",
       "      <td>2016-08</td>\n",
       "      <td>VIP</td>\n",
       "      <td>NaN</td>\n",
       "    </tr>\n",
       "  </tbody>\n",
       "</table>\n",
       "</div>"
      ],
      "text/plain": [
       "   CustomerID Gender  Age  Income (k$)  Spending Score JoinDate  \\\n",
       "0        1052      F   45        41.21              65  2015-02   \n",
       "1        2442   male   22        56.04              43  2018-12   \n",
       "2        1352   Male   34        86.52              48  2015-12   \n",
       "3        1353   Male   29        26.46              65  2015-12   \n",
       "4        1579   male   28        38.47              96  2016-08   \n",
       "\n",
       "                Notes   ZipCode  \n",
       "0      loyal customer  110011.0  \n",
       "1                 NaN       NaN  \n",
       "2  discount requested  110011.0  \n",
       "3                 NaN       NaN  \n",
       "4                 VIP       NaN  "
      ]
     },
     "execution_count": 1,
     "metadata": {},
     "output_type": "execute_result"
    }
   ],
   "source": [
    "import pandas as pd\n",
    "\n",
    "#load the data\n",
    "df = pd.read_csv('messy_mall_customers.csv')\n",
    "\n",
    "#Preview the first 5 rows\n",
    "df.head()"
   ]
  },
  {
   "cell_type": "markdown",
   "id": "fa5c5fe8",
   "metadata": {},
   "source": [
    "Data cleaning\n",
    "objective here.\n",
    "- check for missing values\n",
    "- Handle duplicates\n",
    "- Fixing data types\n",
    "- Cleaning inconsistent entries\n",
    "- Removing irrelevant columns"
   ]
  },
  {
   "cell_type": "code",
   "execution_count": 2,
   "id": "4d252cb5",
   "metadata": {},
   "outputs": [
    {
     "name": "stdout",
     "output_type": "stream",
     "text": [
      "Missing values in each column\n",
      "CustomerID          0\n",
      "Gender            193\n",
      "Age                 0\n",
      "Income (k$)       102\n",
      "Spending Score      0\n",
      "JoinDate          154\n",
      "Notes             363\n",
      "ZipCode           655\n",
      "dtype: int64\n"
     ]
    }
   ],
   "source": [
    "#check for missing values\n",
    "#import libraries\n",
    "import pandas as pd\n",
    "missing_values = df.isnull().sum()\n",
    "\n",
    "print('Missing values in each column')\n",
    "print(missing_values)"
   ]
  },
  {
   "cell_type": "code",
   "execution_count": 3,
   "id": "53f0f902",
   "metadata": {},
   "outputs": [
    {
     "name": "stdout",
     "output_type": "stream",
     "text": [
      "['F' 'male' 'Male' nan 'Female' 'Other' 'M' 'female']\n",
      "Gender\n",
      "Female     591\n",
      "Male       578\n",
      "Unknown    193\n",
      "Other      188\n",
      "Name: count, dtype: int64\n"
     ]
    }
   ],
   "source": [
    "#check unique values in Gender\n",
    "print(df['Gender'].unique())\n",
    "\n",
    "#standardize Gender column\n",
    "def clean_gender(g):\n",
    "    if pd.isnull(g):\n",
    "        return 'Unknown'\n",
    "    g = g.strip().lower()\n",
    "    if g in ['male', 'm']:\n",
    "        return 'Male'\n",
    "    elif g in ['female', 'f']:\n",
    "        return 'Female'\n",
    "    elif g == 'other':\n",
    "        return 'Other'\n",
    "    else:\n",
    "        return 'Unkown'\n",
    "df['Gender'] = df['Gender'].apply(clean_gender)\n",
    "\n",
    "#verify cleaned values\n",
    "print(df['Gender'].value_counts())"
   ]
  },
  {
   "cell_type": "code",
   "execution_count": 4,
   "id": "87840080",
   "metadata": {},
   "outputs": [
    {
     "data": {
      "image/png": "[encoded data removed]",
      "text/plain": [
       "<Figure size 800x500 with 1 Axes>"
      ]
     },
     "metadata": {},
     "output_type": "display_data"
    }
   ],
   "source": [
    "import matplotlib.pyplot as plt\n",
    "import seaborn as sns\n",
    "\n",
    "#plot income distribution\n",
    "plt.figure(figsize = (8,5))\n",
    "sns.histplot(df['Income (k$)'], bins =30, kde = True)\n",
    "plt.title('Income (k$) Distribution')\n",
    "plt.xlabel('Income (k$)')\n",
    "plt.ylabel('Frequency')\n",
    "plt.show()"
   ]
  },
  {
   "cell_type": "code",
   "execution_count": 5,
   "id": "4004f482",
   "metadata": {},
   "outputs": [
    {
     "name": "stdout",
     "output_type": "stream",
     "text": [
      "0\n"
     ]
    }
   ],
   "source": [
    "#impute missing income values with mean\n",
    "mean_income = df['Income (k$)'].mean()\n",
    "df['Income (k$)'] = df['Income (k$)'].fillna(mean_income)\n",
    "\n",
    "#Confirm all missing values are removed\n",
    "print(df['Income (k$)'].isnull().sum())"
   ]
  },
  {
   "cell_type": "markdown",
   "id": "63019afd",
   "metadata": {},
   "source": [
    "#Handling Missing data in JoinDate Column\n",
    "#We have 154 missing entries and this is likely datetime and could be useful for\n",
    "#Calculating Customer tenure\n",
    "#Aalysing cohorts or trends overtime"
   ]
  },
  {
   "cell_type": "code",
   "execution_count": 6,
   "id": "956b4f1d",
   "metadata": {},
   "outputs": [
    {
     "name": "stdout",
     "output_type": "stream",
     "text": [
      "154\n"
     ]
    }
   ],
   "source": [
    "#convert the JoinDate to datetime format\n",
    "df['JoinDate'] = pd.to_datetime(df['JoinDate'], errors = 'coerce')\n",
    "\n",
    "#Recheck how many are still missing after Conversion\n",
    "print(df['JoinDate'].isnull().sum())"
   ]
  },
  {
   "cell_type": "code",
   "execution_count": 7,
   "id": "3da9df9e",
   "metadata": {},
   "outputs": [
    {
     "name": "stdout",
     "output_type": "stream",
     "text": [
      "0\n"
     ]
    },
    {
     "name": "stderr",
     "output_type": "stream",
     "text": [
      "C:\\Users\\ELITEX21012G2\\AppData\\Local\\Temp\\ipykernel_12784\\890021032.py:3: FutureWarning: A value is trying to be set on a copy of a DataFrame or Series through chained assignment using an inplace method.\n",
      "The behavior will change in pandas 3.0. This inplace method will never work because the intermediate object on which we are setting values always behaves as a copy.\n",
      "\n",
      "For example, when doing 'df[col].method(value, inplace=True)', try using 'df.method({col: value}, inplace=True)' or df[col] = df[col].method(value) instead, to perform the operation inplace on the original object.\n",
      "\n",
      "\n",
      "  df['JoinDate'].fillna(mode_JoinDate, inplace = True)\n"
     ]
    }
   ],
   "source": [
    "#We fill missing JoinDate with the most frequent value\n",
    "mode_JoinDate = df['JoinDate'].mode()[0]\n",
    "df['JoinDate'].fillna(mode_JoinDate, inplace = True)\n",
    "\n",
    "#confirm no mor missing values\n",
    "print(df['JoinDate'].isnull().sum())"
   ]
  },
  {
   "cell_type": "code",
   "execution_count": 8,
   "id": "7fb3af81",
   "metadata": {},
   "outputs": [
    {
     "name": "stdout",
     "output_type": "stream",
     "text": [
      "0\n"
     ]
    },
    {
     "name": "stderr",
     "output_type": "stream",
     "text": [
      "C:\\Users\\ELITEX21012G2\\AppData\\Local\\Temp\\ipykernel_12784\\2571118027.py:2: FutureWarning: A value is trying to be set on a copy of a DataFrame or Series through chained assignment using an inplace method.\n",
      "The behavior will change in pandas 3.0. This inplace method will never work because the intermediate object on which we are setting values always behaves as a copy.\n",
      "\n",
      "For example, when doing 'df[col].method(value, inplace=True)', try using 'df.method({col: value}, inplace=True)' or df[col] = df[col].method(value) instead, to perform the operation inplace on the original object.\n",
      "\n",
      "\n",
      "  df['Notes'].fillna('No notes', inplace = True)\n"
     ]
    }
   ],
   "source": [
    "#for text columns \n",
    "df['Notes'].fillna('No notes', inplace = True)\n",
    "print(df['Notes'].isnull().sum())"
   ]
  },
  {
   "cell_type": "code",
   "execution_count": 9,
   "id": "86de8877",
   "metadata": {},
   "outputs": [
    {
     "name": "stdout",
     "output_type": "stream",
     "text": [
      "[110011.     nan 400001. 560001.]\n",
      "float64\n",
      "655\n"
     ]
    }
   ],
   "source": [
    "#taking a decision on how to handle missing values in zipcode\n",
    "print(df['ZipCode'].unique()[:10])  #first 10 unique values\n",
    "print(df['ZipCode'].dtype)          #check datatype\n",
    "print(df['ZipCode'].isnull().sum())"
   ]
  },
  {
   "cell_type": "markdown",
   "id": "fc0a3e3f",
   "metadata": {},
   "source": [
    "This column won't contribute meaningfully to your segmentation analysis- and especially since its partially missing and from mixed locations"
   ]
  },
  {
   "cell_type": "code",
   "execution_count": 10,
   "id": "4eba4caa",
   "metadata": {},
   "outputs": [],
   "source": [
    "#Drop ZipCode Column\n",
    "#df.drop(columns =['ZipCode'], inplace = True)\n",
    "\n",
    "#print(df.columns.tolist())"
   ]
  },
  {
   "cell_type": "code",
   "execution_count": 11,
   "id": "f638c063",
   "metadata": {},
   "outputs": [
    {
     "name": "stdout",
     "output_type": "stream",
     "text": [
      "<class 'pandas.core.frame.DataFrame'>\n",
      "RangeIndex: 1550 entries, 0 to 1549\n",
      "Data columns (total 8 columns):\n",
      " #   Column          Non-Null Count  Dtype         \n",
      "---  ------          --------------  -----         \n",
      " 0   CustomerID      1550 non-null   int64         \n",
      " 1   Gender          1550 non-null   object        \n",
      " 2   Age             1550 non-null   int64         \n",
      " 3   Income (k$)     1550 non-null   float64       \n",
      " 4   Spending Score  1550 non-null   int64         \n",
      " 5   JoinDate        1550 non-null   datetime64[ns]\n",
      " 6   Notes           1550 non-null   object        \n",
      " 7   ZipCode         895 non-null    float64       \n",
      "dtypes: datetime64[ns](1), float64(2), int64(3), object(2)\n",
      "memory usage: 97.0+ KB\n",
      "None\n",
      "        CustomerID          Age  Income (k$)  Spending Score  \\\n",
      "count  1550.000000  1550.000000  1550.000000     1550.000000   \n",
      "mean   1753.959355    35.165161    60.304227       52.987097   \n",
      "min    1001.000000    -5.000000    -4.790000        1.000000   \n",
      "25%    1379.250000    28.000000    48.305000       25.000000   \n",
      "50%    1753.500000    35.000000    60.304227       51.000000   \n",
      "75%    2129.750000    42.000000    72.760000       77.000000   \n",
      "max    2500.000000   120.000000   125.210000      300.000000   \n",
      "std     433.879262    12.556232    19.448004       37.023937   \n",
      "\n",
      "                            JoinDate        ZipCode  \n",
      "count                           1550     895.000000  \n",
      "mean   2016-12-05 13:40:20.129032448  359132.731844  \n",
      "min              2015-01-01 00:00:00  110011.000000  \n",
      "25%              2016-02-01 00:00:00  110011.000000  \n",
      "50%              2016-10-01 00:00:00  400001.000000  \n",
      "75%              2017-12-01 00:00:00  560001.000000  \n",
      "max              2019-02-01 00:00:00  560001.000000  \n",
      "std                              NaN  184692.971230  \n",
      "Gender\n",
      "Female     591\n",
      "Male       578\n",
      "Unknown    193\n",
      "Other      188\n",
      "Name: count, dtype: int64\n"
     ]
    }
   ],
   "source": [
    "#Exploratory data Analysis\n",
    "print(df.info())\n",
    "\n",
    "#summary statistics\n",
    "print(df.describe())\n",
    "\n",
    "#Gender distribution\n",
    "print(df['Gender'].value_counts())"
   ]
  },
  {
   "cell_type": "markdown",
   "id": "f0ca79ac",
   "metadata": {},
   "source": [
    "Observations\n",
    "We have annomalies in Age, income, spending score and Gender Distribution \n",
    "for example, min age of -5, min income of -4. Max spending score of 300, while the rest are more reasonable. This could be a possible indication of an outlier.\n",
    "Under Gender Distribution, Female category might have been dropped/misclassified\n"
   ]
  },
  {
   "cell_type": "code",
   "execution_count": 12,
   "id": "dd383e10",
   "metadata": {},
   "outputs": [
    {
     "name": "stdout",
     "output_type": "stream",
     "text": [
      "               Age  Income (k$)\n",
      "count  1518.000000  1518.000000\n",
      "mean     35.215415    60.486444\n",
      "std       9.855066    19.216458\n",
      "min       4.000000     0.940000\n",
      "25%      29.000000    48.397500\n",
      "50%      35.000000    60.304227\n",
      "75%      42.000000    72.760000\n",
      "max      66.000000   125.210000\n"
     ]
    }
   ],
   "source": [
    "#clean the age and Income\n",
    "#Remove unrealistic values from age \n",
    "df = df[(df['Age'] > 0) & (df['Age'] <= 100)]\n",
    "\n",
    "#Remove unrealistic values from Income(k$)\n",
    "df = df[df['Income (k$)'] >= 0]\n",
    "\n",
    "#Confirm Cleanup\n",
    "print(df[['Age', 'Income (k$)']].describe())"
   ]
  },
  {
   "cell_type": "code",
   "execution_count": 13,
   "id": "f6178573",
   "metadata": {},
   "outputs": [
    {
     "name": "stdout",
     "output_type": "stream",
     "text": [
      "['Female' 'Male' 'Unknown' 'Other']\n",
      "Gender\n",
      "Female     576\n",
      "Male       567\n",
      "Unknown    189\n",
      "Other      186\n",
      "Name: count, dtype: int64\n"
     ]
    }
   ],
   "source": [
    "print(df['Gender'].unique())\n",
    "print(df['Gender'].value_counts())"
   ]
  },
  {
   "cell_type": "code",
   "execution_count": 14,
   "id": "12532b1f",
   "metadata": {},
   "outputs": [
    {
     "name": "stderr",
     "output_type": "stream",
     "text": [
      "C:\\Users\\ELITEX21012G2\\AppData\\Local\\Temp\\ipykernel_12784\\2542102715.py:9: FutureWarning: \n",
      "\n",
      "Passing `palette` without assigning `hue` is deprecated and will be removed in v0.14.0. Assign the `x` variable to `hue` and set `legend=False` for the same effect.\n",
      "\n",
      "  sns.countplot(data =df, x = 'Gender', palette = 'Set2')\n"
     ]
    },
    {
     "data": {
      "image/png": "[encoded data removed]",
      "text/plain": [
       "<Figure size 600x400 with 1 Axes>"
      ]
     },
     "metadata": {},
     "output_type": "display_data"
    },
    {
     "data": {
      "image/png": "[encoded data removed]",
      "text/plain": [
       "<Figure size 600x400 with 1 Axes>"
      ]
     },
     "metadata": {},
     "output_type": "display_data"
    },
    {
     "data": {
      "image/png": "[encoded data removed]",
      "text/plain": [
       "<Figure size 600x400 with 1 Axes>"
      ]
     },
     "metadata": {},
     "output_type": "display_data"
    },
    {
     "data": {
      "image/png": "[encoded data removed]",
      "text/plain": [
       "<Figure size 600x400 with 1 Axes>"
      ]
     },
     "metadata": {},
     "output_type": "display_data"
    }
   ],
   "source": [
    "import matplotlib.pyplot as plt\n",
    "import seaborn as sns\n",
    "\n",
    "#We set visual style for the plots\n",
    "sns.set(style = 'whitegrid')\n",
    "\n",
    "# Plot 1: Gender Distribution\n",
    "plt.figure(figsize= (6,4))\n",
    "sns.countplot(data =df, x = 'Gender', palette = 'Set2')\n",
    "plt.title('Gender Distribution')\n",
    "plt.show()\n",
    "\n",
    "# Plot 2: Age Distribution\n",
    "plt.figure(figsize = (6,4))\n",
    "sns.histplot(df['Age'], bins = 20, kde = True, color = 'skyblue')\n",
    "plt.title('Age Distribution')\n",
    "plt.show()\n",
    "\n",
    "#Plot 3: Income distribution\n",
    "plt.figure(figsize = (6,4))\n",
    "sns.histplot(df['Income (k$)'], bins = 20, kde = True, color = 'orange')\n",
    "plt.title('Income Distribution')\n",
    "plt.show()\n",
    "\n",
    "# Plot 4: Spendind Score Distribution\n",
    "plt.figure(figsize = (6,4))\n",
    "sns.histplot(df['Spending Score'], bins = 20, kde = True, color = 'green')\n",
    "plt.title('Spending score Distribution')\n",
    "plt.show()"
   ]
  },
  {
   "cell_type": "markdown",
   "id": "1db62db4",
   "metadata": {},
   "source": [
    "Insights\n",
    "1. This dataset has a concentrated adult population (People in thier 30s and 40s)\n",
    "2. The highest bar/peak occurs at around 60,000 which suggests its the most common income level in the data set. The spread is mostly between 50k - 70k\n",
    "3. Majority of customers spend moderately with scores concentrated below 100"
   ]
  },
  {
   "cell_type": "code",
   "execution_count": 15,
   "id": "2218809c",
   "metadata": {},
   "outputs": [],
   "source": [
    "#Feature Selection + Scaling\n",
    "from sklearn.preprocessing import StandardScaler\n",
    "\n",
    "#Select features\n",
    "X = df[['Age', 'Income (k$)', 'Spending Score']]\n",
    "\n",
    "# Scale the features\n",
    "scaler = StandardScaler()\n",
    "x_scaled = scaler.fit_transform(X)"
   ]
  },
  {
   "cell_type": "code",
   "execution_count": 16,
   "id": "2b2681a2",
   "metadata": {},
   "outputs": [
    {
     "data": {
      "image/png": "[encoded data removed]",
      "text/plain": [
       "<Figure size 800x500 with 1 Axes>"
      ]
     },
     "metadata": {},
     "output_type": "display_data"
    }
   ],
   "source": [
    "#To find optimal number of clusters for KMEANS, we use the Elbow method \n",
    "from sklearn.cluster import KMeans\n",
    "import matplotlib.pyplot as plt\n",
    "\n",
    "#Test different values of K (number of clusters)\n",
    "inertia = []\n",
    "k_range = range(1,11)\n",
    "\n",
    "for k in k_range:\n",
    "    km = KMeans(n_clusters = k, random_state = 42)\n",
    "    km.fit(x_scaled)\n",
    "    inertia.append(km.inertia_)\n",
    "\n",
    "# Plotting the Elbow Curve\n",
    "plt.figure(figsize =(8,5))\n",
    "plt.plot(k_range, inertia, marker ='o')\n",
    "plt.title('Elbow Method for Optimal K')\n",
    "plt.xlabel('Number of Clusters (k)')\n",
    "plt.ylabel('Inertia')\n",
    "plt.grid(True)\n",
    "plt.show()"
   ]
  },
  {
   "cell_type": "markdown",
   "id": "9d59cf9f",
   "metadata": {},
   "source": [
    "From the plot above, k = 4, where the drop in inertia slows down significantly. This indicates that 4 clusters might be optional."
   ]
  },
  {
   "cell_type": "code",
   "execution_count": 17,
   "id": "1a1a7803",
   "metadata": {},
   "outputs": [
    {
     "data": {
      "application/vnd.microsoft.datawrangler.viewer.v0+json": {
       "columns": [
        {
         "name": "index",
         "rawType": "int64",
         "type": "integer"
        },
        {
         "name": "CustomerID",
         "rawType": "int64",
         "type": "integer"
        },
        {
         "name": "Gender",
         "rawType": "object",
         "type": "string"
        },
        {
         "name": "Age",
         "rawType": "int64",
         "type": "integer"
        },
        {
         "name": "Income (k$)",
         "rawType": "float64",
         "type": "float"
        },
        {
         "name": "Spending Score",
         "rawType": "int64",
         "type": "integer"
        },
        {
         "name": "JoinDate",
         "rawType": "datetime64[ns]",
         "type": "datetime"
        },
        {
         "name": "Notes",
         "rawType": "object",
         "type": "string"
        },
        {
         "name": "ZipCode",
         "rawType": "float64",
         "type": "float"
        },
        {
         "name": "Clusters",
         "rawType": "int32",
         "type": "integer"
        }
       ],
       "ref": "eaca5758-8708-4f8d-bfec-0af04b95d695",
       "rows": [
        [
         "0",
         "1052",
         "Female",
         "45",
         "41.21",
         "65",
         "2015-02-01 00:00:00",
         "loyal customer",
         "110011.0",
         "0"
        ],
        [
         "1",
         "2442",
         "Male",
         "22",
         "56.04",
         "43",
         "2018-12-01 00:00:00",
         "No notes",
         null,
         "2"
        ],
        [
         "2",
         "1352",
         "Male",
         "34",
         "86.52",
         "48",
         "2015-12-01 00:00:00",
         "discount requested",
         "110011.0",
         "2"
        ],
        [
         "3",
         "1353",
         "Male",
         "29",
         "26.46",
         "65",
         "2015-12-01 00:00:00",
         "No notes",
         null,
         "0"
        ],
        [
         "4",
         "1579",
         "Male",
         "28",
         "38.47",
         "96",
         "2016-08-01 00:00:00",
         "VIP",
         null,
         "1"
        ]
       ],
       "shape": {
        "columns": 9,
        "rows": 5
       }
      },
      "text/html": [
       "<div>\n",
       "<style scoped>\n",
       "    .dataframe tbody tr th:only-of-type {\n",
       "        vertical-align: middle;\n",
       "    }\n",
       "\n",
       "    .dataframe tbody tr th {\n",
       "        vertical-align: top;\n",
       "    }\n",
       "\n",
       "    .dataframe thead th {\n",
       "        text-align: right;\n",
       "    }\n",
       "</style>\n",
       "<table border=\"1\" class=\"dataframe\">\n",
       "  <thead>\n",
       "    <tr style=\"text-align: right;\">\n",
       "      <th></th>\n",
       "      <th>CustomerID</th>\n",
       "      <th>Gender</th>\n",
       "      <th>Age</th>\n",
       "      <th>Income (k$)</th>\n",
       "      <th>Spending Score</th>\n",
       "      <th>JoinDate</th>\n",
       "      <th>Notes</th>\n",
       "      <th>ZipCode</th>\n",
       "      <th>Clusters</th>\n",
       "    </tr>\n",
       "  </thead>\n",
       "  <tbody>\n",
       "    <tr>\n",
       "      <th>0</th>\n",
       "      <td>1052</td>\n",
       "      <td>Female</td>\n",
       "      <td>45</td>\n",
       "      <td>41.21</td>\n",
       "      <td>65</td>\n",
       "      <td>2015-02-01</td>\n",
       "      <td>loyal customer</td>\n",
       "      <td>110011.0</td>\n",
       "      <td>0</td>\n",
       "    </tr>\n",
       "    <tr>\n",
       "      <th>1</th>\n",
       "      <td>2442</td>\n",
       "      <td>Male</td>\n",
       "      <td>22</td>\n",
       "      <td>56.04</td>\n",
       "      <td>43</td>\n",
       "      <td>2018-12-01</td>\n",
       "      <td>No notes</td>\n",
       "      <td>NaN</td>\n",
       "      <td>2</td>\n",
       "    </tr>\n",
       "    <tr>\n",
       "      <th>2</th>\n",
       "      <td>1352</td>\n",
       "      <td>Male</td>\n",
       "      <td>34</td>\n",
       "      <td>86.52</td>\n",
       "      <td>48</td>\n",
       "      <td>2015-12-01</td>\n",
       "      <td>discount requested</td>\n",
       "      <td>110011.0</td>\n",
       "      <td>2</td>\n",
       "    </tr>\n",
       "    <tr>\n",
       "      <th>3</th>\n",
       "      <td>1353</td>\n",
       "      <td>Male</td>\n",
       "      <td>29</td>\n",
       "      <td>26.46</td>\n",
       "      <td>65</td>\n",
       "      <td>2015-12-01</td>\n",
       "      <td>No notes</td>\n",
       "      <td>NaN</td>\n",
       "      <td>0</td>\n",
       "    </tr>\n",
       "    <tr>\n",
       "      <th>4</th>\n",
       "      <td>1579</td>\n",
       "      <td>Male</td>\n",
       "      <td>28</td>\n",
       "      <td>38.47</td>\n",
       "      <td>96</td>\n",
       "      <td>2016-08-01</td>\n",
       "      <td>VIP</td>\n",
       "      <td>NaN</td>\n",
       "      <td>1</td>\n",
       "    </tr>\n",
       "  </tbody>\n",
       "</table>\n",
       "</div>"
      ],
      "text/plain": [
       "   CustomerID  Gender  Age  Income (k$)  Spending Score   JoinDate  \\\n",
       "0        1052  Female   45        41.21              65 2015-02-01   \n",
       "1        2442    Male   22        56.04              43 2018-12-01   \n",
       "2        1352    Male   34        86.52              48 2015-12-01   \n",
       "3        1353    Male   29        26.46              65 2015-12-01   \n",
       "4        1579    Male   28        38.47              96 2016-08-01   \n",
       "\n",
       "                Notes   ZipCode  Clusters  \n",
       "0      loyal customer  110011.0         0  \n",
       "1            No notes       NaN         2  \n",
       "2  discount requested  110011.0         2  \n",
       "3            No notes       NaN         0  \n",
       "4                 VIP       NaN         1  "
      ]
     },
     "execution_count": 17,
     "metadata": {},
     "output_type": "execute_result"
    }
   ],
   "source": [
    "#Fit KMeans with the chosen number of clusters\n",
    "kmeans = KMeans(n_clusters= 4, random_state= 42)\n",
    "clusters = kmeans.fit_predict(x_scaled)\n",
    "\n",
    "#Add labels\n",
    "df['Clusters']= clusters\n",
    "\n",
    "#Preview\n",
    "df.head()"
   ]
  },
  {
   "cell_type": "code",
   "execution_count": 23,
   "id": "d16c4841",
   "metadata": {},
   "outputs": [
    {
     "data": {
      "application/vnd.microsoft.datawrangler.viewer.v0+json": {
       "columns": [
        {
         "name": "Clusters",
         "rawType": "int32",
         "type": "integer"
        },
        {
         "name": "Age",
         "rawType": "float64",
         "type": "float"
        },
        {
         "name": "Income (k$)",
         "rawType": "float64",
         "type": "float"
        },
        {
         "name": "Spending Score",
         "rawType": "float64",
         "type": "float"
        }
       ],
       "ref": "8ef47736-acfe-48bb-a11a-14989f341f79",
       "rows": [
        [
         "0",
         "38.8",
         "41.6",
         "33.2"
        ],
        [
         "1",
         "27.7",
         "54.1",
         "88.5"
        ],
        [
         "2",
         "29.1",
         "74.4",
         "30.5"
        ],
        [
         "3",
         "44.6",
         "70.6",
         "65.6"
        ]
       ],
       "shape": {
        "columns": 3,
        "rows": 4
       }
      },
      "text/html": [
       "<div>\n",
       "<style scoped>\n",
       "    .dataframe tbody tr th:only-of-type {\n",
       "        vertical-align: middle;\n",
       "    }\n",
       "\n",
       "    .dataframe tbody tr th {\n",
       "        vertical-align: top;\n",
       "    }\n",
       "\n",
       "    .dataframe thead th {\n",
       "        text-align: right;\n",
       "    }\n",
       "</style>\n",
       "<table border=\"1\" class=\"dataframe\">\n",
       "  <thead>\n",
       "    <tr style=\"text-align: right;\">\n",
       "      <th></th>\n",
       "      <th>Age</th>\n",
       "      <th>Income (k$)</th>\n",
       "      <th>Spending Score</th>\n",
       "    </tr>\n",
       "    <tr>\n",
       "      <th>Clusters</th>\n",
       "      <th></th>\n",
       "      <th></th>\n",
       "      <th></th>\n",
       "    </tr>\n",
       "  </thead>\n",
       "  <tbody>\n",
       "    <tr>\n",
       "      <th>0</th>\n",
       "      <td>38.8</td>\n",
       "      <td>41.6</td>\n",
       "      <td>33.2</td>\n",
       "    </tr>\n",
       "    <tr>\n",
       "      <th>1</th>\n",
       "      <td>27.7</td>\n",
       "      <td>54.1</td>\n",
       "      <td>88.5</td>\n",
       "    </tr>\n",
       "    <tr>\n",
       "      <th>2</th>\n",
       "      <td>29.1</td>\n",
       "      <td>74.4</td>\n",
       "      <td>30.5</td>\n",
       "    </tr>\n",
       "    <tr>\n",
       "      <th>3</th>\n",
       "      <td>44.6</td>\n",
       "      <td>70.6</td>\n",
       "      <td>65.6</td>\n",
       "    </tr>\n",
       "  </tbody>\n",
       "</table>\n",
       "</div>"
      ],
      "text/plain": [
       "           Age  Income (k$)  Spending Score\n",
       "Clusters                                   \n",
       "0         38.8         41.6            33.2\n",
       "1         27.7         54.1            88.5\n",
       "2         29.1         74.4            30.5\n",
       "3         44.6         70.6            65.6"
      ]
     },
     "execution_count": 23,
     "metadata": {},
     "output_type": "execute_result"
    }
   ],
   "source": [
    "#Understanding the clusters\n",
    "#Group by clusters and calculate statistics\n",
    "cluster_summary = df.groupby('Clusters')[['Age', 'Income (k$)', 'Spending Score']].mean().round(1)\n",
    "cluster_summary\n"
   ]
  },
  {
   "cell_type": "code",
   "execution_count": 19,
   "id": "70f295d4",
   "metadata": {},
   "outputs": [],
   "source": [
    "#New dataframe for cluster centers\n",
    "import pandas as pd\n",
    "\n",
    "cluster_data = {\n",
    "    'Cluster': [0, 1, 2, 3],\n",
    "    'Age': [38.8, 27.7, 29.1, 44.6],\n",
    "    'Income (k$)': [41.6, 54.1, 74.4, 70.6],\n",
    "    'Spending Score': [33.3, 88.5, 30.5, 65.6]\n",
    "}\n",
    "centroids = pd.DataFrame(cluster_data)\n",
    "\n",
    "#map descriptive labels "
   ]
  },
  {
   "cell_type": "code",
   "execution_count": 20,
   "id": "b55c2b67",
   "metadata": {},
   "outputs": [],
   "source": [
    "#Map descriptive Labels\n",
    "segment_names = {\n",
    "    0: 'Frugal Mid-Aged',\n",
    "    1: 'Young Big Spenders',\n",
    "    2: 'Young High Earners, Low Spenders',\n",
    "    3: 'Affluent Loyal Customers'\n",
    "}\n",
    "centroids['Segment'] = centroids['Cluster'].map(segment_names)"
   ]
  },
  {
   "cell_type": "code",
   "execution_count": 21,
   "id": "580af9d8",
   "metadata": {},
   "outputs": [
    {
     "data": {
      "application/vnd.plotly.v1+json": {
       "config": {
        "plotlyServerURL": "https://plot.ly"
       },
       "data": [
        {
         "customdata": {
          "bdata": "ZmZmZmZmQ0AAAAAAAAAAAA==",
          "dtype": "f8",
          "shape": "1, 2"
         },
         "hovertemplate": "Segment=%{text}<br>Average Income (k$)=%{x}<br>Average Spending Score=%{y}<br>Avg Age=%{customdata[0]}<extra></extra>",
         "legendgroup": "Frugal Mid-Aged",
         "marker": {
          "color": "#636efa",
          "line": {
           "color": "black",
           "width": 1
          },
          "size": {
           "bdata": "ZmZmZmZmQ0A=",
           "dtype": "f8"
          },
          "sizemode": "area",
          "sizeref": 0.1115,
          "symbol": "circle"
         },
         "mode": "markers+text",
         "name": "Frugal Mid-Aged",
         "orientation": "v",
         "showlegend": true,
         "text": [
          "Frugal Mid-Aged"
         ],
         "type": "scatter",
         "x": {
          "bdata": "zczMzMzMREA=",
          "dtype": "f8"
         },
         "xaxis": "x",
         "y": {
          "bdata": "ZmZmZmamQEA=",
          "dtype": "f8"
         },
         "yaxis": "y"
        },
        {
         "customdata": {
          "bdata": "MzMzMzOzO0AAAAAAAADwPw==",
          "dtype": "f8",
          "shape": "1, 2"
         },
         "hovertemplate": "Segment=%{text}<br>Average Income (k$)=%{x}<br>Average Spending Score=%{y}<br>Avg Age=%{customdata[0]}<extra></extra>",
         "legendgroup": "Young Big Spenders",
         "marker": {
          "color": "#EF553B",
          "line": {
           "color": "black",
           "width": 1
          },
          "size": {
           "bdata": "MzMzMzOzO0A=",
           "dtype": "f8"
          },
          "sizemode": "area",
          "sizeref": 0.1115,
          "symbol": "circle"
         },
         "mode": "markers+text",
         "name": "Young Big Spenders",
         "orientation": "v",
         "showlegend": true,
         "text": [
          "Young Big Spenders"
         ],
         "type": "scatter",
         "x": {
          "bdata": "zczMzMwMS0A=",
          "dtype": "f8"
         },
         "xaxis": "x",
         "y": {
          "bdata": "AAAAAAAgVkA=",
          "dtype": "f8"
         },
         "yaxis": "y"
        },
        {
         "customdata": {
          "bdata": "mpmZmZkZPUAAAAAAAAAAQA==",
          "dtype": "f8",
          "shape": "1, 2"
         },
         "hovertemplate": "Segment=%{text}<br>Average Income (k$)=%{x}<br>Average Spending Score=%{y}<br>Avg Age=%{customdata[0]}<extra></extra>",
         "legendgroup": "Young High Earners, Low Spenders",
         "marker": {
          "color": "#00cc96",
          "line": {
           "color": "black",
           "width": 1
          },
          "size": {
           "bdata": "mpmZmZkZPUA=",
           "dtype": "f8"
          },
          "sizemode": "area",
          "sizeref": 0.1115,
          "symbol": "circle"
         },
         "mode": "markers+text",
         "name": "Young High Earners, Low Spenders",
         "orientation": "v",
         "showlegend": true,
         "text": [
          "Young High Earners, Low Spenders"
         ],
         "type": "scatter",
         "x": {
          "bdata": "mpmZmZmZUkA=",
          "dtype": "f8"
         },
         "xaxis": "x",
         "y": {
          "bdata": "AAAAAACAPkA=",
          "dtype": "f8"
         },
         "yaxis": "y"
        },
        {
         "customdata": {
          "bdata": "zczMzMxMRkAAAAAAAAAIQA==",
          "dtype": "f8",
          "shape": "1, 2"
         },
         "hovertemplate": "Segment=%{text}<br>Average Income (k$)=%{x}<br>Average Spending Score=%{y}<br>Avg Age=%{customdata[0]}<extra></extra>",
         "legendgroup": "Affluent Loyal Customers",
         "marker": {
          "color": "#ab63fa",
          "line": {
           "color": "black",
           "width": 1
          },
          "size": {
           "bdata": "zczMzMxMRkA=",
           "dtype": "f8"
          },
          "sizemode": "area",
          "sizeref": 0.1115,
          "symbol": "circle"
         },
         "mode": "markers+text",
         "name": "Affluent Loyal Customers",
         "orientation": "v",
         "showlegend": true,
         "text": [
          "Affluent Loyal Customers"
         ],
         "type": "scatter",
         "x": {
          "bdata": "ZmZmZmamUUA=",
          "dtype": "f8"
         },
         "xaxis": "x",
         "y": {
          "bdata": "ZmZmZmZmUEA=",
          "dtype": "f8"
         },
         "yaxis": "y"
        }
       ],
       "layout": {
        "legend": {
         "itemsizing": "constant",
         "title": {
          "text": "Segment"
         },
         "tracegroupgap": 0
        },
        "showlegend": false,
        "template": {
         "data": {
          "bar": [
           {
            "error_x": {
             "color": "#2a3f5f"
            },
            "error_y": {
             "color": "#2a3f5f"
            },
            "marker": {
             "line": {
              "color": "#E5ECF6",
              "width": 0.5
             },
             "pattern": {
              "fillmode": "overlay",
              "size": 10,
              "solidity": 0.2
             }
            },
            "type": "bar"
           }
          ],
          "barpolar": [
           {
            "marker": {
             "line": {
              "color": "#E5ECF6",
              "width": 0.5
             },
             "pattern": {
              "fillmode": "overlay",
              "size": 10,
              "solidity": 0.2
             }
            },
            "type": "barpolar"
           }
          ],
          "carpet": [
           {
            "aaxis": {
             "endlinecolor": "#2a3f5f",
             "gridcolor": "white",
             "linecolor": "white",
             "minorgridcolor": "white",
             "startlinecolor": "#2a3f5f"
            },
            "baxis": {
             "endlinecolor": "#2a3f5f",
             "gridcolor": "white",
             "linecolor": "white",
             "minorgridcolor": "white",
             "startlinecolor": "#2a3f5f"
            },
            "type": "carpet"
           }
          ],
          "choropleth": [
           {
            "colorbar": {
             "outlinewidth": 0,
             "ticks": ""
            },
            "type": "choropleth"
           }
          ],
          "contour": [
           {
            "colorbar": {
             "outlinewidth": 0,
             "ticks": ""
            },
            "colorscale": [
             [
              0,
              "#0d0887"
             ],
             [
              0.1111111111111111,
              "#46039f"
             ],
             [
              0.2222222222222222,
              "#7201a8"
             ],
             [
              0.3333333333333333,
              "#9c179e"
             ],
             [
              0.4444444444444444,
              "#bd3786"
             ],
             [
              0.5555555555555556,
              "#d8576b"
             ],
             [
              0.6666666666666666,
              "#ed7953"
             ],
             [
              0.7777777777777778,
              "#fb9f3a"
             ],
             [
              0.8888888888888888,
              "#fdca26"
             ],
             [
              1,
              "#f0f921"
             ]
            ],
            "type": "contour"
           }
          ],
          "contourcarpet": [
           {
            "colorbar": {
             "outlinewidth": 0,
             "ticks": ""
            },
            "type": "contourcarpet"
           }
          ],
          "heatmap": [
           {
            "colorbar": {
             "outlinewidth": 0,
             "ticks": ""
            },
            "colorscale": [
             [
              0,
              "#0d0887"
             ],
             [
              0.1111111111111111,
              "#46039f"
             ],
             [
              0.2222222222222222,
              "#7201a8"
             ],
             [
              0.3333333333333333,
              "#9c179e"
             ],
             [
              0.4444444444444444,
              "#bd3786"
             ],
             [
              0.5555555555555556,
              "#d8576b"
             ],
             [
              0.6666666666666666,
              "#ed7953"
             ],
             [
              0.7777777777777778,
              "#fb9f3a"
             ],
             [
              0.8888888888888888,
              "#fdca26"
             ],
             [
              1,
              "#f0f921"
             ]
            ],
            "type": "heatmap"
           }
          ],
          "histogram": [
           {
            "marker": {
             "pattern": {
              "fillmode": "overlay",
              "size": 10,
              "solidity": 0.2
             }
            },
            "type": "histogram"
           }
          ],
          "histogram2d": [
           {
            "colorbar": {
             "outlinewidth": 0,
             "ticks": ""
            },
            "colorscale": [
             [
              0,
              "#0d0887"
             ],
             [
              0.1111111111111111,
              "#46039f"
             ],
             [
              0.2222222222222222,
              "#7201a8"
             ],
             [
              0.3333333333333333,
              "#9c179e"
             ],
             [
              0.4444444444444444,
              "#bd3786"
             ],
             [
              0.5555555555555556,
              "#d8576b"
             ],
             [
              0.6666666666666666,
              "#ed7953"
             ],
             [
              0.7777777777777778,
              "#fb9f3a"
             ],
             [
              0.8888888888888888,
              "#fdca26"
             ],
             [
              1,
              "#f0f921"
             ]
            ],
            "type": "histogram2d"
           }
          ],
          "histogram2dcontour": [
           {
            "colorbar": {
             "outlinewidth": 0,
             "ticks": ""
            },
            "colorscale": [
             [
              0,
              "#0d0887"
             ],
             [
              0.1111111111111111,
              "#46039f"
             ],
             [
              0.2222222222222222,
              "#7201a8"
             ],
             [
              0.3333333333333333,
              "#9c179e"
             ],
             [
              0.4444444444444444,
              "#bd3786"
             ],
             [
              0.5555555555555556,
              "#d8576b"
             ],
             [
              0.6666666666666666,
              "#ed7953"
             ],
             [
              0.7777777777777778,
              "#fb9f3a"
             ],
             [
              0.8888888888888888,
              "#fdca26"
             ],
             [
              1,
              "#f0f921"
             ]
            ],
            "type": "histogram2dcontour"
           }
          ],
          "mesh3d": [
           {
            "colorbar": {
             "outlinewidth": 0,
             "ticks": ""
            },
            "type": "mesh3d"
           }
          ],
          "parcoords": [
           {
            "line": {
             "colorbar": {
              "outlinewidth": 0,
              "ticks": ""
             }
            },
            "type": "parcoords"
           }
          ],
          "pie": [
           {
            "automargin": true,
            "type": "pie"
           }
          ],
          "scatter": [
           {
            "fillpattern": {
             "fillmode": "overlay",
             "size": 10,
             "solidity": 0.2
            },
            "type": "scatter"
           }
          ],
          "scatter3d": [
           {
            "line": {
             "colorbar": {
              "outlinewidth": 0,
              "ticks": ""
             }
            },
            "marker": {
             "colorbar": {
              "outlinewidth": 0,
              "ticks": ""
             }
            },
            "type": "scatter3d"
           }
          ],
          "scattercarpet": [
           {
            "marker": {
             "colorbar": {
              "outlinewidth": 0,
              "ticks": ""
             }
            },
            "type": "scattercarpet"
           }
          ],
          "scattergeo": [
           {
            "marker": {
             "colorbar": {
              "outlinewidth": 0,
              "ticks": ""
             }
            },
            "type": "scattergeo"
           }
          ],
          "scattergl": [
           {
            "marker": {
             "colorbar": {
              "outlinewidth": 0,
              "ticks": ""
             }
            },
            "type": "scattergl"
           }
          ],
          "scattermap": [
           {
            "marker": {
             "colorbar": {
              "outlinewidth": 0,
              "ticks": ""
             }
            },
            "type": "scattermap"
           }
          ],
          "scattermapbox": [
           {
            "marker": {
             "colorbar": {
              "outlinewidth": 0,
              "ticks": ""
             }
            },
            "type": "scattermapbox"
           }
          ],
          "scatterpolar": [
           {
            "marker": {
             "colorbar": {
              "outlinewidth": 0,
              "ticks": ""
             }
            },
            "type": "scatterpolar"
           }
          ],
          "scatterpolargl": [
           {
            "marker": {
             "colorbar": {
              "outlinewidth": 0,
              "ticks": ""
             }
            },
            "type": "scatterpolargl"
           }
          ],
          "scatterternary": [
           {
            "marker": {
             "colorbar": {
              "outlinewidth": 0,
              "ticks": ""
             }
            },
            "type": "scatterternary"
           }
          ],
          "surface": [
           {
            "colorbar": {
             "outlinewidth": 0,
             "ticks": ""
            },
            "colorscale": [
             [
              0,
              "#0d0887"
             ],
             [
              0.1111111111111111,
              "#46039f"
             ],
             [
              0.2222222222222222,
              "#7201a8"
             ],
             [
              0.3333333333333333,
              "#9c179e"
             ],
             [
              0.4444444444444444,
              "#bd3786"
             ],
             [
              0.5555555555555556,
              "#d8576b"
             ],
             [
              0.6666666666666666,
              "#ed7953"
             ],
             [
              0.7777777777777778,
              "#fb9f3a"
             ],
             [
              0.8888888888888888,
              "#fdca26"
             ],
             [
              1,
              "#f0f921"
             ]
            ],
            "type": "surface"
           }
          ],
          "table": [
           {
            "cells": {
             "fill": {
              "color": "#EBF0F8"
             },
             "line": {
              "color": "white"
             }
            },
            "header": {
             "fill": {
              "color": "#C8D4E3"
             },
             "line": {
              "color": "white"
             }
            },
            "type": "table"
           }
          ]
         },
         "layout": {
          "annotationdefaults": {
           "arrowcolor": "#2a3f5f",
           "arrowhead": 0,
           "arrowwidth": 1
          },
          "autotypenumbers": "strict",
          "coloraxis": {
           "colorbar": {
            "outlinewidth": 0,
            "ticks": ""
           }
          },
          "colorscale": {
           "diverging": [
            [
             0,
             "#8e0152"
            ],
            [
             0.1,
             "#c51b7d"
            ],
            [
             0.2,
             "#de77ae"
            ],
            [
             0.3,
             "#f1b6da"
            ],
            [
             0.4,
             "#fde0ef"
            ],
            [
             0.5,
             "#f7f7f7"
            ],
            [
             0.6,
             "#e6f5d0"
            ],
            [
             0.7,
             "#b8e186"
            ],
            [
             0.8,
             "#7fbc41"
            ],
            [
             0.9,
             "#4d9221"
            ],
            [
             1,
             "#276419"
            ]
           ],
           "sequential": [
            [
             0,
             "#0d0887"
            ],
            [
             0.1111111111111111,
             "#46039f"
            ],
            [
             0.2222222222222222,
             "#7201a8"
            ],
            [
             0.3333333333333333,
             "#9c179e"
            ],
            [
             0.4444444444444444,
             "#bd3786"
            ],
            [
             0.5555555555555556,
             "#d8576b"
            ],
            [
             0.6666666666666666,
             "#ed7953"
            ],
            [
             0.7777777777777778,
             "#fb9f3a"
            ],
            [
             0.8888888888888888,
             "#fdca26"
            ],
            [
             1,
             "#f0f921"
            ]
           ],
           "sequentialminus": [
            [
             0,
             "#0d0887"
            ],
            [
             0.1111111111111111,
             "#46039f"
            ],
            [
             0.2222222222222222,
             "#7201a8"
            ],
            [
             0.3333333333333333,
             "#9c179e"
            ],
            [
             0.4444444444444444,
             "#bd3786"
            ],
            [
             0.5555555555555556,
             "#d8576b"
            ],
            [
             0.6666666666666666,
             "#ed7953"
            ],
            [
             0.7777777777777778,
             "#fb9f3a"
            ],
            [
             0.8888888888888888,
             "#fdca26"
            ],
            [
             1,
             "#f0f921"
            ]
           ]
          },
          "colorway": [
           "#636efa",
           "#EF553B",
           "#00cc96",
           "#ab63fa",
           "#FFA15A",
           "#19d3f3",
           "#FF6692",
           "#B6E880",
           "#FF97FF",
           "#FECB52"
          ],
          "font": {
           "color": "#2a3f5f"
          },
          "geo": {
           "bgcolor": "white",
           "lakecolor": "white",
           "landcolor": "#E5ECF6",
           "showlakes": true,
           "showland": true,
           "subunitcolor": "white"
          },
          "hoverlabel": {
           "align": "left"
          },
          "hovermode": "closest",
          "mapbox": {
           "style": "light"
          },
          "paper_bgcolor": "white",
          "plot_bgcolor": "#E5ECF6",
          "polar": {
           "angularaxis": {
            "gridcolor": "white",
            "linecolor": "white",
            "ticks": ""
           },
           "bgcolor": "#E5ECF6",
           "radialaxis": {
            "gridcolor": "white",
            "linecolor": "white",
            "ticks": ""
           }
          },
          "scene": {
           "xaxis": {
            "backgroundcolor": "#E5ECF6",
            "gridcolor": "white",
            "gridwidth": 2,
            "linecolor": "white",
            "showbackground": true,
            "ticks": "",
            "zerolinecolor": "white"
           },
           "yaxis": {
            "backgroundcolor": "#E5ECF6",
            "gridcolor": "white",
            "gridwidth": 2,
            "linecolor": "white",
            "showbackground": true,
            "ticks": "",
            "zerolinecolor": "white"
           },
           "zaxis": {
            "backgroundcolor": "#E5ECF6",
            "gridcolor": "white",
            "gridwidth": 2,
            "linecolor": "white",
            "showbackground": true,
            "ticks": "",
            "zerolinecolor": "white"
           }
          },
          "shapedefaults": {
           "line": {
            "color": "#2a3f5f"
           }
          },
          "ternary": {
           "aaxis": {
            "gridcolor": "white",
            "linecolor": "white",
            "ticks": ""
           },
           "baxis": {
            "gridcolor": "white",
            "linecolor": "white",
            "ticks": ""
           },
           "bgcolor": "#E5ECF6",
           "caxis": {
            "gridcolor": "white",
            "linecolor": "white",
            "ticks": ""
           }
          },
          "title": {
           "x": 0.05
          },
          "xaxis": {
           "automargin": true,
           "gridcolor": "white",
           "linecolor": "white",
           "ticks": "",
           "title": {
            "standoff": 15
           },
           "zerolinecolor": "white",
           "zerolinewidth": 2
          },
          "yaxis": {
           "automargin": true,
           "gridcolor": "white",
           "linecolor": "white",
           "ticks": "",
           "title": {
            "standoff": 15
           },
           "zerolinecolor": "white",
           "zerolinewidth": 2
          }
         }
        },
        "title": {
         "text": "Customer Segments with Average Age (Bubble size)"
        },
        "xaxis": {
         "anchor": "y",
         "domain": [
          0,
          1
         ],
         "title": {
          "text": "Average Income (k$)"
         }
        },
        "yaxis": {
         "anchor": "x",
         "domain": [
          0,
          1
         ],
         "title": {
          "text": "Average Spending Score"
         }
        }
       }
      }
     },
     "metadata": {},
     "output_type": "display_data"
    }
   ],
   "source": [
    "import plotly.express as px\n",
    "\n",
    "fig = px.scatter(\n",
    "    centroids,\n",
    "    x='Income (k$)',\n",
    "    y='Spending Score',\n",
    "    color='Segment',\n",
    "    text='Segment',\n",
    "    title='Customer Segments with Average Age (Bubble size)',\n",
    "    size= 'Age',\n",
    "    labels={\n",
    "        'Income (k$)': 'Average Income (k$)',\n",
    "        'Spending Score': 'Average Spending Score',\n",
    "        'Age': 'Avg Age'\n",
    "    },\n",
    "    hover_data = {'Age': True, 'Cluster':False}\n",
    ")\n",
    "\n",
    "fig.update_traces(marker=dict(line=dict(width=1, color='black')))\n",
    "fig.update_layout(showlegend= False)\n",
    "fig.show()"
   ]
  },
  {
   "cell_type": "code",
   "execution_count": 24,
   "id": "9ef66d22",
   "metadata": {},
   "outputs": [],
   "source": [
    "#Save final Dataframe to CSV with cluster info\n",
    "df.to_csv('Segmented_customers.csv', index =False)"
   ]
  }
 ],
 "metadata": {
  "kernelspec": {
   "display_name": "Python 3",
   "language": "python",
   "name": "python3"
  },
  "language_info": {
   "codemirror_mode": {
    "name": "ipython",
    "version": 3
   },
   "file_extension": ".py",
   "mimetype": "text/x-python",
   "name": "python",
   "nbconvert_exporter": "python",
   "pygments_lexer": "ipython3",
   "version": "3.13.3"
  }
 },
 "nbformat": 4,
 "nbformat_minor": 5
}
