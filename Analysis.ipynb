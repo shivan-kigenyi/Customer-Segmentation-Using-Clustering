{
 "cells": [
  {
   "cell_type": "code",
   "execution_count": 1,
   "id": "0ee7f66d",
   "metadata": {},
   "outputs": [
    {
     "data": {
      "application/vnd.microsoft.datawrangler.viewer.v0+json": {
       "columns": [
        {
         "name": "index",
         "rawType": "int64",
         "type": "integer"
        },
        {
         "name": "CustomerID",
         "rawType": "int64",
         "type": "integer"
        },
        {
         "name": "Gender",
         "rawType": "object",
         "type": "string"
        },
        {
         "name": "Age",
         "rawType": "int64",
         "type": "integer"
        },
        {
         "name": "Income (k$)",
         "rawType": "float64",
         "type": "float"
        },
        {
         "name": "Spending Score",
         "rawType": "int64",
         "type": "integer"
        },
        {
         "name": "JoinDate",
         "rawType": "object",
         "type": "string"
        },
        {
         "name": "Notes",
         "rawType": "object",
         "type": "unknown"
        },
        {
         "name": "ZipCode",
         "rawType": "float64",
         "type": "float"
        }
       ],
       "ref": "b9f97c28-310c-42e7-80f9-d263fe7b2378",
       "rows": [
        [
         "0",
         "1052",
         "F",
         "45",
         "41.21",
         "65",
         "2015-02",
         "loyal customer",
         "110011.0"
        ],
        [
         "1",
         "2442",
         "male",
         "22",
         "56.04",
         "43",
         "2018-12",
         null,
         null
        ],
        [
         "2",
         "1352",
         "Male",
         "34",
         "86.52",
         "48",
         "2015-12",
         "discount requested",
         "110011.0"
        ],
        [
         "3",
         "1353",
         "Male",
         "29",
         "26.46",
         "65",
         "2015-12",
         null,
         null
        ],
        [
         "4",
         "1579",
         "male",
         "28",
         "38.47",
         "96",
         "2016-08",
         "VIP",
         null
        ]
       ],
       "shape": {
        "columns": 8,
        "rows": 5
       }
      },
      "text/html": [
       "<div>\n",
       "<style scoped>\n",
       "    .dataframe tbody tr th:only-of-type {\n",
       "        vertical-align: middle;\n",
       "    }\n",
       "\n",
       "    .dataframe tbody tr th {\n",
       "        vertical-align: top;\n",
       "    }\n",
       "\n",
       "    .dataframe thead th {\n",
       "        text-align: right;\n",
       "    }\n",
       "</style>\n",
       "<table border=\"1\" class=\"dataframe\">\n",
       "  <thead>\n",
       "    <tr style=\"text-align: right;\">\n",
       "      <th></th>\n",
       "      <th>CustomerID</th>\n",
       "      <th>Gender</th>\n",
       "      <th>Age</th>\n",
       "      <th>Income (k$)</th>\n",
       "      <th>Spending Score</th>\n",
       "      <th>JoinDate</th>\n",
       "      <th>Notes</th>\n",
       "      <th>ZipCode</th>\n",
       "    </tr>\n",
       "  </thead>\n",
       "  <tbody>\n",
       "    <tr>\n",
       "      <th>0</th>\n",
       "      <td>1052</td>\n",
       "      <td>F</td>\n",
       "      <td>45</td>\n",
       "      <td>41.21</td>\n",
       "      <td>65</td>\n",
       "      <td>2015-02</td>\n",
       "      <td>loyal customer</td>\n",
       "      <td>110011.0</td>\n",
       "    </tr>\n",
       "    <tr>\n",
       "      <th>1</th>\n",
       "      <td>2442</td>\n",
       "      <td>male</td>\n",
       "      <td>22</td>\n",
       "      <td>56.04</td>\n",
       "      <td>43</td>\n",
       "      <td>2018-12</td>\n",
       "      <td>NaN</td>\n",
       "      <td>NaN</td>\n",
       "    </tr>\n",
       "    <tr>\n",
       "      <th>2</th>\n",
       "      <td>1352</td>\n",
       "      <td>Male</td>\n",
       "      <td>34</td>\n",
       "      <td>86.52</td>\n",
       "      <td>48</td>\n",
       "      <td>2015-12</td>\n",
       "      <td>discount requested</td>\n",
       "      <td>110011.0</td>\n",
       "    </tr>\n",
       "    <tr>\n",
       "      <th>3</th>\n",
       "      <td>1353</td>\n",
       "      <td>Male</td>\n",
       "      <td>29</td>\n",
       "      <td>26.46</td>\n",
       "      <td>65</td>\n",
       "      <td>2015-12</td>\n",
       "      <td>NaN</td>\n",
       "      <td>NaN</td>\n",
       "    </tr>\n",
       "    <tr>\n",
       "      <th>4</th>\n",
       "      <td>1579</td>\n",
       "      <td>male</td>\n",
       "      <td>28</td>\n",
       "      <td>38.47</td>\n",
       "      <td>96</td>\n",
       "      <td>2016-08</td>\n",
       "      <td>VIP</td>\n",
       "      <td>NaN</td>\n",
       "    </tr>\n",
       "  </tbody>\n",
       "</table>\n",
       "</div>"
      ],
      "text/plain": [
       "   CustomerID Gender  Age  Income (k$)  Spending Score JoinDate  \\\n",
       "0        1052      F   45        41.21              65  2015-02   \n",
       "1        2442   male   22        56.04              43  2018-12   \n",
       "2        1352   Male   34        86.52              48  2015-12   \n",
       "3        1353   Male   29        26.46              65  2015-12   \n",
       "4        1579   male   28        38.47              96  2016-08   \n",
       "\n",
       "                Notes   ZipCode  \n",
       "0      loyal customer  110011.0  \n",
       "1                 NaN       NaN  \n",
       "2  discount requested  110011.0  \n",
       "3                 NaN       NaN  \n",
       "4                 VIP       NaN  "
      ]
     },
     "execution_count": 1,
     "metadata": {},
     "output_type": "execute_result"
    }
   ],
   "source": [
    "import pandas as pd\n",
    "\n",
    "#load the data\n",
    "df = pd.read_csv('messy_mall_customers.csv')\n",
    "\n",
    "#Preview the first 5 rows\n",
    "df.head()"
   ]
  },
  {
   "cell_type": "markdown",
   "id": "fa5c5fe8",
   "metadata": {},
   "source": [
    "Data cleaning\n",
    "objective here.\n",
    "- check for missing values\n",
    "- Handle duplicates\n",
    "- Fixing data types\n",
    "- Cleaning inconsistent entries\n",
    "- Removing irrelevant columns"
   ]
  },
  {
   "cell_type": "code",
   "execution_count": 2,
   "id": "4d252cb5",
   "metadata": {},
   "outputs": [
    {
     "name": "stdout",
     "output_type": "stream",
     "text": [
      "Missing values in each column\n",
      "CustomerID          0\n",
      "Gender            193\n",
      "Age                 0\n",
      "Income (k$)       102\n",
      "Spending Score      0\n",
      "JoinDate          154\n",
      "Notes             363\n",
      "ZipCode           655\n",
      "dtype: int64\n"
     ]
    }
   ],
   "source": [
    "#check for missing values\n",
    "#import libraries\n",
    "import pandas as pd\n",
    "missing_values = df.isnull().sum()\n",
    "\n",
    "print('Missing values in each column')\n",
    "print(missing_values)"
   ]
  },
  {
   "cell_type": "code",
   "execution_count": 3,
   "id": "53f0f902",
   "metadata": {},
   "outputs": [
    {
     "name": "stdout",
     "output_type": "stream",
     "text": [
      "['F' 'male' 'Male' nan 'Female' 'Other' 'M' 'female']\n",
      "Gender\n",
      "Female     591\n",
      "Male       578\n",
      "Unknown    193\n",
      "Other      188\n",
      "Name: count, dtype: int64\n"
     ]
    }
   ],
   "source": [
    "#check unique values in Gender\n",
    "print(df['Gender'].unique())\n",
    "\n",
    "#standardize Gender column\n",
    "def clean_gender(g):\n",
    "    if pd.isnull(g):\n",
    "        return 'Unknown'\n",
    "    g = g.strip().lower()\n",
    "    if g in ['male', 'm']:\n",
    "        return 'Male'\n",
    "    elif g in ['female', 'f']:\n",
    "        return 'Female'\n",
    "    elif g == 'other':\n",
    "        return 'Other'\n",
    "    else:\n",
    "        return 'Unkown'\n",
    "df['Gender'] = df['Gender'].apply(clean_gender)\n",
    "\n",
    "#verify cleaned values\n",
    "print(df['Gender'].value_counts())"
   ]
  },
  {
   "cell_type": "code",
   "execution_count": 4,
   "id": "87840080",
   "metadata": {},
   "outputs": [
    {
     "data": {
      "image/png": "[encoded data removed]",
      "text/plain": [
       "<Figure size 800x500 with 1 Axes>"
      ]
     },
     "metadata": {},
     "output_type": "display_data"
    }
   ],
   "source": [
    "import matplotlib.pyplot as plt\n",
    "import seaborn as sns\n",
    "\n",
    "#plot income distribution\n",
    "plt.figure(figsize = (8,5))\n",
    "sns.histplot(df['Income (k$)'], bins =30, kde = True)\n",
    "plt.title('Income (k$) Distribution')\n",
    "plt.xlabel('Income (k$)')\n",
    "plt.ylabel('Frequency')\n",
    "plt.show()"
   ]
  },
  {
   "cell_type": "code",
   "execution_count": 5,
   "id": "4004f482",
   "metadata": {},
   "outputs": [
    {
     "name": "stdout",
     "output_type": "stream",
     "text": [
      "0\n"
     ]
    }
   ],
   "source": [
    "#impute missing income values with mean\n",
    "mean_income = df['Income (k$)'].mean()\n",
    "df['Income (k$)'] = df['Income (k$)'].fillna(mean_income)\n",
    "\n",
    "#Confirm all missing values are removed\n",
    "print(df['Income (k$)'].isnull().sum())"
   ]
  }
 ],
 "metadata": {
  "kernelspec": {
   "display_name": "Python 3",
   "language": "python",
   "name": "python3"
  },
  "language_info": {
   "codemirror_mode": {
    "name": "ipython",
    "version": 3
   },
   "file_extension": ".py",
   "mimetype": "text/x-python",
   "name": "python",
   "nbconvert_exporter": "python",
   "pygments_lexer": "ipython3",
   "version": "3.13.3"
  }
 },
 "nbformat": 4,
 "nbformat_minor": 5
}
